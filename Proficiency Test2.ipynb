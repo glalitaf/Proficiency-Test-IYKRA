{
 "cells": [
  {
   "cell_type": "markdown",
   "metadata": {},
   "source": [
    "## No. 3\tEDA (Max Point: 10)\n",
    "\n",
    "-\tLakukanlah EDA sebagai dasar untuk cleansing dataset. (Output: Notebook)\n"
   ]
  },
  {
   "cell_type": "code",
   "execution_count": 1,
   "metadata": {},
   "outputs": [
    {
     "name": "stderr",
     "output_type": "stream",
     "text": [
      "C:\\Users\\hp\\Anaconda3\\lib\\site-packages\\IPython\\core\\interactiveshell.py:3147: DtypeWarning: Columns (0) have mixed types.Specify dtype option on import or set low_memory=False.\n",
      "  interactivity=interactivity, compiler=compiler, result=result)\n"
     ]
    }
   ],
   "source": [
    "# Import Dataset\n",
    "\n",
    "import pandas as pd\n",
    "import numpy as np\n",
    "\n",
    "df_2018 = pd.read_csv('Crime2018.csv')\n",
    "df_2019 = pd.read_csv('Crime2019.csv')\n",
    "df_2020 = pd.read_csv('Crime2020.csv')"
   ]
  },
  {
   "cell_type": "code",
   "execution_count": 2,
   "metadata": {},
   "outputs": [
    {
     "data": {
      "text/html": [
       "<div>\n",
       "<style scoped>\n",
       "    .dataframe tbody tr th:only-of-type {\n",
       "        vertical-align: middle;\n",
       "    }\n",
       "\n",
       "    .dataframe tbody tr th {\n",
       "        vertical-align: top;\n",
       "    }\n",
       "\n",
       "    .dataframe thead th {\n",
       "        text-align: right;\n",
       "    }\n",
       "</style>\n",
       "<table border=\"1\" class=\"dataframe\">\n",
       "  <thead>\n",
       "    <tr style=\"text-align: right;\">\n",
       "      <th></th>\n",
       "      <th>INCIDENT_NUMBER</th>\n",
       "      <th>OFFENSE_CODE</th>\n",
       "      <th>OFFENSE_CODE_GROUP</th>\n",
       "      <th>OFFENSE_DESCRIPTION</th>\n",
       "      <th>DISTRICT</th>\n",
       "      <th>REPORTING_AREA</th>\n",
       "      <th>SHOOTING</th>\n",
       "      <th>OCCURRED_ON_DATE</th>\n",
       "      <th>YEAR</th>\n",
       "      <th>MONTH</th>\n",
       "      <th>DAY_OF_WEEK</th>\n",
       "      <th>HOUR</th>\n",
       "      <th>UCR_PART</th>\n",
       "      <th>STREET</th>\n",
       "      <th>Lat</th>\n",
       "      <th>Long</th>\n",
       "      <th>Location</th>\n",
       "    </tr>\n",
       "  </thead>\n",
       "  <tbody>\n",
       "    <tr>\n",
       "      <th>0</th>\n",
       "      <td>I192077559</td>\n",
       "      <td>3115</td>\n",
       "      <td>Investigate Person</td>\n",
       "      <td>INVESTIGATE PERSON</td>\n",
       "      <td>B3</td>\n",
       "      <td>468</td>\n",
       "      <td>NaN</td>\n",
       "      <td>2018-04-30 09:00:00</td>\n",
       "      <td>2018</td>\n",
       "      <td>4</td>\n",
       "      <td>Monday</td>\n",
       "      <td>9</td>\n",
       "      <td>Part Three</td>\n",
       "      <td>HAZLETON ST</td>\n",
       "      <td>42.279971</td>\n",
       "      <td>-71.095534</td>\n",
       "      <td>(42.27997063, -71.09553354)</td>\n",
       "    </tr>\n",
       "    <tr>\n",
       "      <th>1</th>\n",
       "      <td>I192077332</td>\n",
       "      <td>619</td>\n",
       "      <td>Larceny</td>\n",
       "      <td>LARCENY ALL OTHERS</td>\n",
       "      <td>E18</td>\n",
       "      <td>496</td>\n",
       "      <td>NaN</td>\n",
       "      <td>2018-03-06 08:00:00</td>\n",
       "      <td>2018</td>\n",
       "      <td>3</td>\n",
       "      <td>Tuesday</td>\n",
       "      <td>8</td>\n",
       "      <td>Part One</td>\n",
       "      <td>HYDE PARK AVE</td>\n",
       "      <td>42.269224</td>\n",
       "      <td>-71.120853</td>\n",
       "      <td>(42.26922388, -71.12085347)</td>\n",
       "    </tr>\n",
       "    <tr>\n",
       "      <th>2</th>\n",
       "      <td>I192076660</td>\n",
       "      <td>2629</td>\n",
       "      <td>Harassment</td>\n",
       "      <td>HARASSMENT</td>\n",
       "      <td>E5</td>\n",
       "      <td>662</td>\n",
       "      <td>NaN</td>\n",
       "      <td>2018-10-31 12:00:00</td>\n",
       "      <td>2018</td>\n",
       "      <td>10</td>\n",
       "      <td>Wednesday</td>\n",
       "      <td>12</td>\n",
       "      <td>Part Two</td>\n",
       "      <td>PRIMROSE ST</td>\n",
       "      <td>42.290765</td>\n",
       "      <td>-71.130211</td>\n",
       "      <td>(42.29076521, -71.13021098)</td>\n",
       "    </tr>\n",
       "    <tr>\n",
       "      <th>3</th>\n",
       "      <td>I192075386</td>\n",
       "      <td>2629</td>\n",
       "      <td>Harassment</td>\n",
       "      <td>HARASSMENT</td>\n",
       "      <td>A1</td>\n",
       "      <td>96</td>\n",
       "      <td>NaN</td>\n",
       "      <td>2018-04-09 08:43:00</td>\n",
       "      <td>2018</td>\n",
       "      <td>4</td>\n",
       "      <td>Monday</td>\n",
       "      <td>8</td>\n",
       "      <td>Part Two</td>\n",
       "      <td>ATLANTIC AVE</td>\n",
       "      <td>42.355264</td>\n",
       "      <td>-71.050988</td>\n",
       "      <td>(42.35526402, -71.05098788)</td>\n",
       "    </tr>\n",
       "    <tr>\n",
       "      <th>4</th>\n",
       "      <td>I192075335</td>\n",
       "      <td>3208</td>\n",
       "      <td>Property Lost</td>\n",
       "      <td>PROPERTY - MISSING</td>\n",
       "      <td>D4</td>\n",
       "      <td>132</td>\n",
       "      <td>NaN</td>\n",
       "      <td>2018-01-01 00:00:00</td>\n",
       "      <td>2018</td>\n",
       "      <td>1</td>\n",
       "      <td>Monday</td>\n",
       "      <td>0</td>\n",
       "      <td>Part Three</td>\n",
       "      <td>COMMONWEALTH AVE</td>\n",
       "      <td>42.353522</td>\n",
       "      <td>-71.072838</td>\n",
       "      <td>(42.35352153, -71.07283786)</td>\n",
       "    </tr>\n",
       "  </tbody>\n",
       "</table>\n",
       "</div>"
      ],
      "text/plain": [
       "  INCIDENT_NUMBER  OFFENSE_CODE  OFFENSE_CODE_GROUP OFFENSE_DESCRIPTION  \\\n",
       "0      I192077559          3115  Investigate Person  INVESTIGATE PERSON   \n",
       "1      I192077332           619             Larceny  LARCENY ALL OTHERS   \n",
       "2      I192076660          2629          Harassment          HARASSMENT   \n",
       "3      I192075386          2629          Harassment          HARASSMENT   \n",
       "4      I192075335          3208       Property Lost  PROPERTY - MISSING   \n",
       "\n",
       "  DISTRICT REPORTING_AREA SHOOTING     OCCURRED_ON_DATE  YEAR  MONTH  \\\n",
       "0       B3            468      NaN  2018-04-30 09:00:00  2018      4   \n",
       "1      E18            496      NaN  2018-03-06 08:00:00  2018      3   \n",
       "2       E5            662      NaN  2018-10-31 12:00:00  2018     10   \n",
       "3       A1             96      NaN  2018-04-09 08:43:00  2018      4   \n",
       "4       D4            132      NaN  2018-01-01 00:00:00  2018      1   \n",
       "\n",
       "  DAY_OF_WEEK  HOUR    UCR_PART            STREET        Lat       Long  \\\n",
       "0      Monday     9  Part Three       HAZLETON ST  42.279971 -71.095534   \n",
       "1     Tuesday     8    Part One     HYDE PARK AVE  42.269224 -71.120853   \n",
       "2   Wednesday    12    Part Two       PRIMROSE ST  42.290765 -71.130211   \n",
       "3      Monday     8    Part Two      ATLANTIC AVE  42.355264 -71.050988   \n",
       "4      Monday     0  Part Three  COMMONWEALTH AVE  42.353522 -71.072838   \n",
       "\n",
       "                      Location  \n",
       "0  (42.27997063, -71.09553354)  \n",
       "1  (42.26922388, -71.12085347)  \n",
       "2  (42.29076521, -71.13021098)  \n",
       "3  (42.35526402, -71.05098788)  \n",
       "4  (42.35352153, -71.07283786)  "
      ]
     },
     "execution_count": 2,
     "metadata": {},
     "output_type": "execute_result"
    }
   ],
   "source": [
    "# Penggabungan Dataset\n",
    "\n",
    "df = df_2018.append([df_2019, df_2020])\n",
    "df.head()\n"
   ]
  },
  {
   "cell_type": "code",
   "execution_count": 3,
   "metadata": {},
   "outputs": [
    {
     "data": {
      "text/plain": [
       "(189564, 17)"
      ]
     },
     "execution_count": 3,
     "metadata": {},
     "output_type": "execute_result"
    }
   ],
   "source": [
    "#Cek Baris dan Kolom\n",
    "\n",
    "df.shape\n"
   ]
  },
  {
   "cell_type": "code",
   "execution_count": 4,
   "metadata": {},
   "outputs": [
    {
     "name": "stdout",
     "output_type": "stream",
     "text": [
      "Jumlah Data Duplikasi dalam Dataset: 161\n"
     ]
    }
   ],
   "source": [
    "# Cek Duplicate Data\n",
    "\n",
    "print('Jumlah Data Duplikasi dalam Dataset:', df.duplicated(subset=None).sum())"
   ]
  },
  {
   "cell_type": "code",
   "execution_count": 5,
   "metadata": {},
   "outputs": [],
   "source": [
    "# Buang data yang terduplikasi\n",
    "\n",
    "df.drop_duplicates(inplace=True)\n"
   ]
  },
  {
   "cell_type": "code",
   "execution_count": 6,
   "metadata": {},
   "outputs": [
    {
     "name": "stdout",
     "output_type": "stream",
     "text": [
      "\n",
      "Counting total missing value:\n",
      "INCIDENT_NUMBER            0\n",
      "OFFENSE_CODE               0\n",
      "OFFENSE_CODE_GROUP     90676\n",
      "OFFENSE_DESCRIPTION        0\n",
      "DISTRICT                1037\n",
      "REPORTING_AREA             0\n",
      "SHOOTING               98408\n",
      "OCCURRED_ON_DATE           0\n",
      "YEAR                       0\n",
      "MONTH                      0\n",
      "DAY_OF_WEEK                0\n",
      "HOUR                       0\n",
      "UCR_PART               90696\n",
      "STREET                  1611\n",
      "Lat                     6421\n",
      "Long                    6421\n",
      "Location                   0\n",
      "dtype: int64\n"
     ]
    }
   ],
   "source": [
    "#Cek missing values\n",
    "\n",
    "print('\\nCounting total missing value:')\n",
    "print(df.isnull().sum())\n"
   ]
  },
  {
   "cell_type": "code",
   "execution_count": 7,
   "metadata": {},
   "outputs": [],
   "source": [
    "# Drop Kolom yang tidak digunakan\n",
    "\n",
    "df.drop(['OFFENSE_CODE','OFFENSE_CODE_GROUP', 'SHOOTING','REPORTING_AREA','OCCURRED_ON_DATE', 'UCR_PART', 'STREET', 'Lat', 'Long', 'Location'], axis = 1, inplace = True)"
   ]
  },
  {
   "cell_type": "code",
   "execution_count": 8,
   "metadata": {},
   "outputs": [
    {
     "name": "stdout",
     "output_type": "stream",
     "text": [
      "\n",
      "Counting total missing value:\n",
      "INCIDENT_NUMBER           0\n",
      "OFFENSE_DESCRIPTION       0\n",
      "DISTRICT               1037\n",
      "YEAR                      0\n",
      "MONTH                     0\n",
      "DAY_OF_WEEK               0\n",
      "HOUR                      0\n",
      "dtype: int64\n"
     ]
    }
   ],
   "source": [
    "#Cek missing values\n",
    "\n",
    "print('\\nCounting total missing value:')\n",
    "print(df.isnull().sum())\n"
   ]
  },
  {
   "cell_type": "code",
   "execution_count": 9,
   "metadata": {},
   "outputs": [
    {
     "data": {
      "text/plain": [
       "B2          28885\n",
       "C11         24321\n",
       "D4          24299\n",
       "B3          21444\n",
       "A1          20461\n",
       "C6          14387\n",
       "D14         12231\n",
       "E18         10869\n",
       "E13         10705\n",
       "E5           8635\n",
       "A7           7699\n",
       "A15          4110\n",
       "External      320\n",
       "Name: DISTRICT, dtype: int64"
      ]
     },
     "execution_count": 9,
     "metadata": {},
     "output_type": "execute_result"
    }
   ],
   "source": [
    "# Cek Value di dalam District\n",
    "\n",
    "df['DISTRICT'].value_counts()"
   ]
  },
  {
   "cell_type": "code",
   "execution_count": 10,
   "metadata": {},
   "outputs": [],
   "source": [
    "# Drop Value External dari kolom District\n",
    "\n",
    "df = df[df.DISTRICT != 'External']"
   ]
  },
  {
   "cell_type": "code",
   "execution_count": 11,
   "metadata": {},
   "outputs": [],
   "source": [
    "# Impute Data\n",
    "\n",
    "from sklearn.impute import SimpleImputer\n",
    "\n",
    "impute = SimpleImputer(strategy='most_frequent')\n",
    "df[['DISTRICT']] = impute.fit_transform(df[['DISTRICT']])"
   ]
  },
  {
   "cell_type": "code",
   "execution_count": 12,
   "metadata": {},
   "outputs": [
    {
     "name": "stdout",
     "output_type": "stream",
     "text": [
      "Checking missing value for each feature:\n",
      "INCIDENT_NUMBER        0\n",
      "OFFENSE_DESCRIPTION    0\n",
      "DISTRICT               0\n",
      "YEAR                   0\n",
      "MONTH                  0\n",
      "DAY_OF_WEEK            0\n",
      "HOUR                   0\n",
      "dtype: int64\n"
     ]
    }
   ],
   "source": [
    "#checking missing value for each feature  \n",
    "\n",
    "print('Checking missing value for each feature:')\n",
    "print(df.isnull().sum())"
   ]
  },
  {
   "cell_type": "code",
   "execution_count": 13,
   "metadata": {},
   "outputs": [
    {
     "data": {
      "text/plain": [
       "INCIDENT_NUMBER        object\n",
       "OFFENSE_DESCRIPTION    object\n",
       "DISTRICT               object\n",
       "YEAR                    int64\n",
       "MONTH                   int64\n",
       "DAY_OF_WEEK            object\n",
       "HOUR                    int64\n",
       "dtype: object"
      ]
     },
     "execution_count": 13,
     "metadata": {},
     "output_type": "execute_result"
    }
   ],
   "source": [
    "# Cek tipe data masing masing kolom\n",
    "\n",
    "df.dtypes"
   ]
  },
  {
   "cell_type": "markdown",
   "metadata": {},
   "source": [
    "## Hidden Insight\n",
    "\n",
    "-\tJelaskan hidden insight yang kamu dapatkan dari hasil visualisasi di atas! (Output: Penjelasan)\n"
   ]
  },
  {
   "cell_type": "markdown",
   "metadata": {},
   "source": [
    "### Analisis Waktu Rawan Kasus Kriminalitas"
   ]
  },
  {
   "cell_type": "code",
   "execution_count": 14,
   "metadata": {},
   "outputs": [],
   "source": [
    "import matplotlib.pyplot as plt\n",
    "import seaborn as sns"
   ]
  },
  {
   "cell_type": "code",
   "execution_count": 15,
   "metadata": {},
   "outputs": [],
   "source": [
    "df1=df.groupby('HOUR').agg(['count']).reset_index()"
   ]
  },
  {
   "cell_type": "code",
   "execution_count": 16,
   "metadata": {
    "scrolled": true
   },
   "outputs": [
    {
     "data": {
      "image/png": "[encoded data removed]",
      "text/plain": [
       "<Figure size 432x288 with 1 Axes>"
      ]
     },
     "metadata": {
      "needs_background": "light"
     },
     "output_type": "display_data"
    }
   ],
   "source": [
    "df1.plot.line(x='HOUR', y='INCIDENT_NUMBER')\n",
    "plt.show()"
   ]
  },
  {
   "cell_type": "markdown",
   "metadata": {},
   "source": [
    "### Waktu paling rawan terjadi kasus kriminalitas adalah pukul 17"
   ]
  },
  {
   "cell_type": "markdown",
   "metadata": {},
   "source": [
    "### Analisis Bulan Rawan Kasus Kriminalitas"
   ]
  },
  {
   "cell_type": "code",
   "execution_count": 17,
   "metadata": {},
   "outputs": [],
   "source": [
    "df2=df.groupby('MONTH').agg(['count']).reset_index()"
   ]
  },
  {
   "cell_type": "code",
   "execution_count": 18,
   "metadata": {},
   "outputs": [
    {
     "data": {
      "image/png": "[encoded data removed]",
      "text/plain": [
       "<Figure size 432x288 with 1 Axes>"
      ]
     },
     "metadata": {
      "needs_background": "light"
     },
     "output_type": "display_data"
    }
   ],
   "source": [
    "df2.plot.line(x='MONTH', y='INCIDENT_NUMBER')\n",
    "plt.show()"
   ]
  },
  {
   "cell_type": "markdown",
   "metadata": {},
   "source": [
    "### Bulan paling rawan terjadi kasus kriminalitas adalah Bulan November"
   ]
  },
  {
   "cell_type": "markdown",
   "metadata": {},
   "source": [
    "## No.5 Python (Max Point: 5)\n",
    "\n",
    "-\tTuliskan script python dari query SQL yang telah dilakukan\n"
   ]
  },
  {
   "cell_type": "markdown",
   "metadata": {},
   "source": [
    "- Sebutkan distrik mana (A/B/C/D/E, tanpa nomor) yang memiliki angka tindak kriminal yang paling tinggi!"
   ]
  },
  {
   "cell_type": "code",
   "execution_count": 19,
   "metadata": {},
   "outputs": [],
   "source": [
    "# Mendapatkan Letter Pertama pada kolom District\n",
    "\n",
    "df['CODE'] = df['DISTRICT'].str[0]"
   ]
  },
  {
   "cell_type": "code",
   "execution_count": 20,
   "metadata": {},
   "outputs": [],
   "source": [
    "soal_1= df.groupby(by=['CODE']).count()[['INCIDENT_NUMBER']].reset_index()"
   ]
  },
  {
   "cell_type": "code",
   "execution_count": 21,
   "metadata": {},
   "outputs": [
    {
     "data": {
      "text/html": [
       "<div>\n",
       "<style scoped>\n",
       "    .dataframe tbody tr th:only-of-type {\n",
       "        vertical-align: middle;\n",
       "    }\n",
       "\n",
       "    .dataframe tbody tr th {\n",
       "        vertical-align: top;\n",
       "    }\n",
       "\n",
       "    .dataframe thead th {\n",
       "        text-align: right;\n",
       "    }\n",
       "</style>\n",
       "<table border=\"1\" class=\"dataframe\">\n",
       "  <thead>\n",
       "    <tr style=\"text-align: right;\">\n",
       "      <th></th>\n",
       "      <th>CODE</th>\n",
       "      <th>INCIDENT_NUMBER</th>\n",
       "    </tr>\n",
       "  </thead>\n",
       "  <tbody>\n",
       "    <tr>\n",
       "      <th>1</th>\n",
       "      <td>B</td>\n",
       "      <td>51366</td>\n",
       "    </tr>\n",
       "    <tr>\n",
       "      <th>2</th>\n",
       "      <td>C</td>\n",
       "      <td>38708</td>\n",
       "    </tr>\n",
       "    <tr>\n",
       "      <th>3</th>\n",
       "      <td>D</td>\n",
       "      <td>36530</td>\n",
       "    </tr>\n",
       "    <tr>\n",
       "      <th>0</th>\n",
       "      <td>A</td>\n",
       "      <td>32270</td>\n",
       "    </tr>\n",
       "    <tr>\n",
       "      <th>4</th>\n",
       "      <td>E</td>\n",
       "      <td>30209</td>\n",
       "    </tr>\n",
       "  </tbody>\n",
       "</table>\n",
       "</div>"
      ],
      "text/plain": [
       "  CODE  INCIDENT_NUMBER\n",
       "1    B            51366\n",
       "2    C            38708\n",
       "3    D            36530\n",
       "0    A            32270\n",
       "4    E            30209"
      ]
     },
     "execution_count": 21,
     "metadata": {},
     "output_type": "execute_result"
    }
   ],
   "source": [
    "soal_1.sort_values(by=['INCIDENT_NUMBER'], ascending = False)"
   ]
  },
  {
   "cell_type": "markdown",
   "metadata": {},
   "source": [
    "### Jawabannya adalah District B dengan jumlah Kasus Kriminal 51366"
   ]
  },
  {
   "cell_type": "markdown",
   "metadata": {},
   "source": [
    "- Sebutkan 3 jenis tindak kriminal yang terjadi pada tahun 2020 namun tidak terjadi di tahun 2019!"
   ]
  },
  {
   "cell_type": "code",
   "execution_count": 22,
   "metadata": {},
   "outputs": [
    {
     "data": {
      "text/html": [
       "<div>\n",
       "<style scoped>\n",
       "    .dataframe tbody tr th:only-of-type {\n",
       "        vertical-align: middle;\n",
       "    }\n",
       "\n",
       "    .dataframe tbody tr th {\n",
       "        vertical-align: top;\n",
       "    }\n",
       "\n",
       "    .dataframe thead th {\n",
       "        text-align: right;\n",
       "    }\n",
       "</style>\n",
       "<table border=\"1\" class=\"dataframe\">\n",
       "  <thead>\n",
       "    <tr style=\"text-align: right;\">\n",
       "      <th></th>\n",
       "      <th>OFFENSE_DESCRIPTION</th>\n",
       "    </tr>\n",
       "  </thead>\n",
       "  <tbody>\n",
       "    <tr>\n",
       "      <th>0</th>\n",
       "      <td>INVESTIGATE PERSON</td>\n",
       "    </tr>\n",
       "    <tr>\n",
       "      <th>1</th>\n",
       "      <td>INVESTIGATE PERSON</td>\n",
       "    </tr>\n",
       "    <tr>\n",
       "      <th>2</th>\n",
       "      <td>FRAUD - CREDIT CARD / ATM FRAUD</td>\n",
       "    </tr>\n",
       "    <tr>\n",
       "      <th>3</th>\n",
       "      <td>FRAUD - WELFARE</td>\n",
       "    </tr>\n",
       "    <tr>\n",
       "      <th>4</th>\n",
       "      <td>HARASSMENT/ CRIMINAL HARASSMENT</td>\n",
       "    </tr>\n",
       "    <tr>\n",
       "      <th>...</th>\n",
       "      <td>...</td>\n",
       "    </tr>\n",
       "    <tr>\n",
       "      <th>70889</th>\n",
       "      <td>INVESTIGATE PROPERTY</td>\n",
       "    </tr>\n",
       "    <tr>\n",
       "      <th>70890</th>\n",
       "      <td>FRAUD - IMPERSONATION</td>\n",
       "    </tr>\n",
       "    <tr>\n",
       "      <th>70891</th>\n",
       "      <td>WEAPON VIOLATION - CARRY/ POSSESSING/ SALE/ TR...</td>\n",
       "    </tr>\n",
       "    <tr>\n",
       "      <th>70892</th>\n",
       "      <td>WEAPON VIOLATION - CARRY/ POSSESSING/ SALE/ TR...</td>\n",
       "    </tr>\n",
       "    <tr>\n",
       "      <th>70893</th>\n",
       "      <td>BURGLARY - COMMERICAL</td>\n",
       "    </tr>\n",
       "  </tbody>\n",
       "</table>\n",
       "<p>70648 rows × 1 columns</p>\n",
       "</div>"
      ],
      "text/plain": [
       "                                     OFFENSE_DESCRIPTION\n",
       "0                                     INVESTIGATE PERSON\n",
       "1                                     INVESTIGATE PERSON\n",
       "2                        FRAUD - CREDIT CARD / ATM FRAUD\n",
       "3                                        FRAUD - WELFARE\n",
       "4                        HARASSMENT/ CRIMINAL HARASSMENT\n",
       "...                                                  ...\n",
       "70889                               INVESTIGATE PROPERTY\n",
       "70890                              FRAUD - IMPERSONATION\n",
       "70891  WEAPON VIOLATION - CARRY/ POSSESSING/ SALE/ TR...\n",
       "70892  WEAPON VIOLATION - CARRY/ POSSESSING/ SALE/ TR...\n",
       "70893                              BURGLARY - COMMERICAL\n",
       "\n",
       "[70648 rows x 1 columns]"
      ]
     },
     "execution_count": 22,
     "metadata": {},
     "output_type": "execute_result"
    }
   ],
   "source": [
    "a= df[df['YEAR']==2020]\n",
    "a = a[['OFFENSE_DESCRIPTION']]\n",
    "a"
   ]
  },
  {
   "cell_type": "code",
   "execution_count": 23,
   "metadata": {},
   "outputs": [
    {
     "data": {
      "text/html": [
       "<div>\n",
       "<style scoped>\n",
       "    .dataframe tbody tr th:only-of-type {\n",
       "        vertical-align: middle;\n",
       "    }\n",
       "\n",
       "    .dataframe tbody tr th {\n",
       "        vertical-align: top;\n",
       "    }\n",
       "\n",
       "    .dataframe thead th {\n",
       "        text-align: right;\n",
       "    }\n",
       "</style>\n",
       "<table border=\"1\" class=\"dataframe\">\n",
       "  <thead>\n",
       "    <tr style=\"text-align: right;\">\n",
       "      <th></th>\n",
       "      <th>OFFENSE_DESCRIPTION</th>\n",
       "    </tr>\n",
       "  </thead>\n",
       "  <tbody>\n",
       "    <tr>\n",
       "      <th>0</th>\n",
       "      <td>WARRANT ARREST - BOSTON WARRANT (MUST BE SUPPL...</td>\n",
       "    </tr>\n",
       "    <tr>\n",
       "      <th>1</th>\n",
       "      <td>FRAUD - IMPERSONATION</td>\n",
       "    </tr>\n",
       "    <tr>\n",
       "      <th>2</th>\n",
       "      <td>FRAUD - IMPERSONATION</td>\n",
       "    </tr>\n",
       "    <tr>\n",
       "      <th>3</th>\n",
       "      <td>ASSAULT - SIMPLE</td>\n",
       "    </tr>\n",
       "    <tr>\n",
       "      <th>4</th>\n",
       "      <td>FRAUD - FALSE PRETENSE / SCHEME</td>\n",
       "    </tr>\n",
       "    <tr>\n",
       "      <th>...</th>\n",
       "      <td>...</td>\n",
       "    </tr>\n",
       "    <tr>\n",
       "      <th>19777</th>\n",
       "      <td>FRAUD - CREDIT CARD / ATM FRAUD</td>\n",
       "    </tr>\n",
       "    <tr>\n",
       "      <th>19778</th>\n",
       "      <td>VERBAL DISPUTE</td>\n",
       "    </tr>\n",
       "    <tr>\n",
       "      <th>19779</th>\n",
       "      <td>VAL - VIOLATION OF AUTO LAW</td>\n",
       "    </tr>\n",
       "    <tr>\n",
       "      <th>19780</th>\n",
       "      <td>INVESTIGATE PERSON</td>\n",
       "    </tr>\n",
       "    <tr>\n",
       "      <th>19781</th>\n",
       "      <td>THREATS TO DO BODILY HARM</td>\n",
       "    </tr>\n",
       "  </tbody>\n",
       "</table>\n",
       "<p>19708 rows × 1 columns</p>\n",
       "</div>"
      ],
      "text/plain": [
       "                                     OFFENSE_DESCRIPTION\n",
       "0      WARRANT ARREST - BOSTON WARRANT (MUST BE SUPPL...\n",
       "1                                  FRAUD - IMPERSONATION\n",
       "2                                  FRAUD - IMPERSONATION\n",
       "3                                       ASSAULT - SIMPLE\n",
       "4                        FRAUD - FALSE PRETENSE / SCHEME\n",
       "...                                                  ...\n",
       "19777                    FRAUD - CREDIT CARD / ATM FRAUD\n",
       "19778                                     VERBAL DISPUTE\n",
       "19779                        VAL - VIOLATION OF AUTO LAW\n",
       "19780                                 INVESTIGATE PERSON\n",
       "19781                          THREATS TO DO BODILY HARM\n",
       "\n",
       "[19708 rows x 1 columns]"
      ]
     },
     "execution_count": 23,
     "metadata": {},
     "output_type": "execute_result"
    }
   ],
   "source": [
    "b = df[df['YEAR']==2019]\n",
    "b = b[['OFFENSE_DESCRIPTION']]\n",
    "b"
   ]
  },
  {
   "cell_type": "code",
   "execution_count": 25,
   "metadata": {},
   "outputs": [
    {
     "ename": "KeyboardInterrupt",
     "evalue": "",
     "output_type": "error",
     "traceback": [
      "\u001b[1;31m---------------------------------------------------------------------------\u001b[0m",
      "\u001b[1;31mKeyboardInterrupt\u001b[0m                         Traceback (most recent call last)",
      "\u001b[1;32m~\\Anaconda3\\lib\\site-packages\\IPython\\core\\interactiveshell.py\u001b[0m in \u001b[0;36msoftspace\u001b[1;34m(file, newvalue)\u001b[0m\n\u001b[0;32m    238\u001b[0m     \u001b[0moldvalue\u001b[0m \u001b[1;33m=\u001b[0m \u001b[1;36m0\u001b[0m\u001b[1;33m\u001b[0m\u001b[1;33m\u001b[0m\u001b[0m\n\u001b[0;32m    239\u001b[0m     \u001b[1;32mtry\u001b[0m\u001b[1;33m:\u001b[0m\u001b[1;33m\u001b[0m\u001b[1;33m\u001b[0m\u001b[0m\n\u001b[1;32m--> 240\u001b[1;33m         \u001b[0moldvalue\u001b[0m \u001b[1;33m=\u001b[0m \u001b[0mfile\u001b[0m\u001b[1;33m.\u001b[0m\u001b[0msoftspace\u001b[0m\u001b[1;33m\u001b[0m\u001b[1;33m\u001b[0m\u001b[0m\n\u001b[0m\u001b[0;32m    241\u001b[0m     \u001b[1;32mexcept\u001b[0m \u001b[0mAttributeError\u001b[0m\u001b[1;33m:\u001b[0m\u001b[1;33m\u001b[0m\u001b[1;33m\u001b[0m\u001b[0m\n\u001b[0;32m    242\u001b[0m         \u001b[1;32mpass\u001b[0m\u001b[1;33m\u001b[0m\u001b[1;33m\u001b[0m\u001b[0m\n",
      "\u001b[1;31mKeyboardInterrupt\u001b[0m: "
     ]
    }
   ],
   "source": [
    "Soal_2=a.merge(b, how='outer', indicator=True).loc[lambda x : x ['_merge']=='left_only']"
   ]
  },
  {
   "cell_type": "code",
   "execution_count": 85,
   "metadata": {},
   "outputs": [
    {
     "data": {
      "text/plain": [
       "INVESTIGATE PERSON                       11781\n",
       "SICK/INJURED/MEDICAL - PERSON            10070\n",
       "M/V - LEAVING SCENE - PROPERTY DAMAGE     9806\n",
       "VANDALISM                                 8229\n",
       "INVESTIGATE PROPERTY                      7876\n",
       "                                         ...  \n",
       "Migrated Report - Other Larceny              1\n",
       "Migrated Report - Weapons Violation          1\n",
       "Evidence Tracker Incidents                   1\n",
       "ASSAULT & BATTERY                            1\n",
       "Justifiable Homicide                         1\n",
       "Name: OFFENSE_DESCRIPTION, Length: 231, dtype: int64"
      ]
     },
     "execution_count": 85,
     "metadata": {},
     "output_type": "execute_result"
    }
   ],
   "source": [
    "df.OFFENSE_DESCRIPTION.value_counts()"
   ]
  },
  {
   "cell_type": "markdown",
   "metadata": {},
   "source": [
    "- Apakah kelompok tindak kriminal yang paling banyak terjadi pada minggu\n",
    "ke 40-45?\n"
   ]
  },
  {
   "cell_type": "code",
   "execution_count": 26,
   "metadata": {},
   "outputs": [],
   "source": [
    "soal_3 = df[(df['MONTH'] == 10) | (df['MONTH'] == 11)]"
   ]
  },
  {
   "cell_type": "code",
   "execution_count": 27,
   "metadata": {},
   "outputs": [],
   "source": [
    "soal_3 = soal_3.groupby(by=['OFFENSE_DESCRIPTION']).count()[['INCIDENT_NUMBER']].reset_index()"
   ]
  },
  {
   "cell_type": "code",
   "execution_count": 28,
   "metadata": {},
   "outputs": [
    {
     "data": {
      "text/html": [
       "<div>\n",
       "<style scoped>\n",
       "    .dataframe tbody tr th:only-of-type {\n",
       "        vertical-align: middle;\n",
       "    }\n",
       "\n",
       "    .dataframe tbody tr th {\n",
       "        vertical-align: top;\n",
       "    }\n",
       "\n",
       "    .dataframe thead th {\n",
       "        text-align: right;\n",
       "    }\n",
       "</style>\n",
       "<table border=\"1\" class=\"dataframe\">\n",
       "  <thead>\n",
       "    <tr style=\"text-align: right;\">\n",
       "      <th></th>\n",
       "      <th>OFFENSE_DESCRIPTION</th>\n",
       "      <th>INCIDENT_NUMBER</th>\n",
       "    </tr>\n",
       "  </thead>\n",
       "  <tbody>\n",
       "    <tr>\n",
       "      <th>89</th>\n",
       "      <td>INVESTIGATE PERSON</td>\n",
       "      <td>2535</td>\n",
       "    </tr>\n",
       "  </tbody>\n",
       "</table>\n",
       "</div>"
      ],
      "text/plain": [
       "   OFFENSE_DESCRIPTION  INCIDENT_NUMBER\n",
       "89  INVESTIGATE PERSON             2535"
      ]
     },
     "execution_count": 28,
     "metadata": {},
     "output_type": "execute_result"
    }
   ],
   "source": [
    "soal_3.sort_values(by=['INCIDENT_NUMBER'], ascending = False).head(1)"
   ]
  },
  {
   "cell_type": "markdown",
   "metadata": {},
   "source": [
    "### Jawabannya adalah INVESTIGATE PERSON"
   ]
  },
  {
   "cell_type": "markdown",
   "metadata": {},
   "source": [
    "- Sebutkan nama distrik (A/B/C/D/E, tanpa nomor) yang memiliki jumlah\n",
    "tindak kriminal terkecil di akhir pekan!"
   ]
  },
  {
   "cell_type": "code",
   "execution_count": 29,
   "metadata": {},
   "outputs": [],
   "source": [
    "soal_4 = df[(df['DAY_OF_WEEK'] == 'Saturday') | (df['DAY_OF_WEEK'] == 'Sunday')]"
   ]
  },
  {
   "cell_type": "code",
   "execution_count": 30,
   "metadata": {},
   "outputs": [],
   "source": [
    "soal_4 = soal_4.groupby(by=['CODE']).count()[['INCIDENT_NUMBER']].reset_index()"
   ]
  },
  {
   "cell_type": "code",
   "execution_count": 31,
   "metadata": {},
   "outputs": [
    {
     "data": {
      "text/html": [
       "<div>\n",
       "<style scoped>\n",
       "    .dataframe tbody tr th:only-of-type {\n",
       "        vertical-align: middle;\n",
       "    }\n",
       "\n",
       "    .dataframe tbody tr th {\n",
       "        vertical-align: top;\n",
       "    }\n",
       "\n",
       "    .dataframe thead th {\n",
       "        text-align: right;\n",
       "    }\n",
       "</style>\n",
       "<table border=\"1\" class=\"dataframe\">\n",
       "  <thead>\n",
       "    <tr style=\"text-align: right;\">\n",
       "      <th></th>\n",
       "      <th>CODE</th>\n",
       "      <th>INCIDENT_NUMBER</th>\n",
       "    </tr>\n",
       "  </thead>\n",
       "  <tbody>\n",
       "    <tr>\n",
       "      <th>4</th>\n",
       "      <td>E</td>\n",
       "      <td>7572</td>\n",
       "    </tr>\n",
       "    <tr>\n",
       "      <th>0</th>\n",
       "      <td>A</td>\n",
       "      <td>8818</td>\n",
       "    </tr>\n",
       "    <tr>\n",
       "      <th>3</th>\n",
       "      <td>D</td>\n",
       "      <td>9813</td>\n",
       "    </tr>\n",
       "    <tr>\n",
       "      <th>2</th>\n",
       "      <td>C</td>\n",
       "      <td>10278</td>\n",
       "    </tr>\n",
       "    <tr>\n",
       "      <th>1</th>\n",
       "      <td>B</td>\n",
       "      <td>13500</td>\n",
       "    </tr>\n",
       "  </tbody>\n",
       "</table>\n",
       "</div>"
      ],
      "text/plain": [
       "  CODE  INCIDENT_NUMBER\n",
       "4    E             7572\n",
       "0    A             8818\n",
       "3    D             9813\n",
       "2    C            10278\n",
       "1    B            13500"
      ]
     },
     "execution_count": 31,
     "metadata": {},
     "output_type": "execute_result"
    }
   ],
   "source": [
    "soal_4.sort_values(by=['INCIDENT_NUMBER'], ascending = True)"
   ]
  },
  {
   "cell_type": "markdown",
   "metadata": {},
   "source": [
    "### Jawabannya adalah DIstrict E"
   ]
  },
  {
   "cell_type": "markdown",
   "metadata": {},
   "source": [
    "- Sebutkan nama distrik (A/B/C/D/E, tanpa nomor) yang memiliki jumlah\n",
    "tindak kriminal terbanyak di hari kerja!"
   ]
  },
  {
   "cell_type": "code",
   "execution_count": 32,
   "metadata": {},
   "outputs": [],
   "source": [
    "soal_5 = df[(df['DAY_OF_WEEK'] != 'Saturday') & (df['DAY_OF_WEEK'] != 'Sunday')]"
   ]
  },
  {
   "cell_type": "code",
   "execution_count": 33,
   "metadata": {},
   "outputs": [],
   "source": [
    "soal_5 = soal_5.groupby(by=['CODE']).count()[['INCIDENT_NUMBER']].reset_index()"
   ]
  },
  {
   "cell_type": "code",
   "execution_count": 34,
   "metadata": {},
   "outputs": [
    {
     "data": {
      "text/html": [
       "<div>\n",
       "<style scoped>\n",
       "    .dataframe tbody tr th:only-of-type {\n",
       "        vertical-align: middle;\n",
       "    }\n",
       "\n",
       "    .dataframe tbody tr th {\n",
       "        vertical-align: top;\n",
       "    }\n",
       "\n",
       "    .dataframe thead th {\n",
       "        text-align: right;\n",
       "    }\n",
       "</style>\n",
       "<table border=\"1\" class=\"dataframe\">\n",
       "  <thead>\n",
       "    <tr style=\"text-align: right;\">\n",
       "      <th></th>\n",
       "      <th>CODE</th>\n",
       "      <th>INCIDENT_NUMBER</th>\n",
       "    </tr>\n",
       "  </thead>\n",
       "  <tbody>\n",
       "    <tr>\n",
       "      <th>1</th>\n",
       "      <td>B</td>\n",
       "      <td>37866</td>\n",
       "    </tr>\n",
       "    <tr>\n",
       "      <th>2</th>\n",
       "      <td>C</td>\n",
       "      <td>28430</td>\n",
       "    </tr>\n",
       "    <tr>\n",
       "      <th>3</th>\n",
       "      <td>D</td>\n",
       "      <td>26717</td>\n",
       "    </tr>\n",
       "    <tr>\n",
       "      <th>0</th>\n",
       "      <td>A</td>\n",
       "      <td>23452</td>\n",
       "    </tr>\n",
       "    <tr>\n",
       "      <th>4</th>\n",
       "      <td>E</td>\n",
       "      <td>22637</td>\n",
       "    </tr>\n",
       "  </tbody>\n",
       "</table>\n",
       "</div>"
      ],
      "text/plain": [
       "  CODE  INCIDENT_NUMBER\n",
       "1    B            37866\n",
       "2    C            28430\n",
       "3    D            26717\n",
       "0    A            23452\n",
       "4    E            22637"
      ]
     },
     "execution_count": 34,
     "metadata": {},
     "output_type": "execute_result"
    }
   ],
   "source": [
    "soal_5.sort_values(by=['INCIDENT_NUMBER'], ascending = False)"
   ]
  },
  {
   "cell_type": "markdown",
   "metadata": {},
   "source": [
    "### Jawabannya adalah District B"
   ]
  },
  {
   "cell_type": "markdown",
   "metadata": {},
   "source": [
    "# No 6.\tMachine Learning (Max Point: 25)\n",
    "\n",
    "-\tLakukan pemodelan dengan salah satu algoritma machine learning untuk dapat memprediksi suatu kejadian kejahatan tertentu terjadi di jam berapa! (Berikan komentar di setiap step pengolahan data dan tampilkan ukuran kebaikan model data test seperti MSE, MAPE, Akurasi, atau yang lainnya) (Output: Notebook)\n",
    "-\tSeorang detektif bernama Shinichi Kudo diberikan tugas untuk melakukan investigasi kejahatan vandalism di district D14. Kejahatan tersebut terjadi di minggu lalu pada hari Kamis bulan Juni. Kira-kira jam berapakah kejahatan itu dilakukan? (Gunakan model yang telah dibuat sebelumnya untuk memprediksi waktu kejadian perkara)(Output: Notebook)\n"
   ]
  },
  {
   "cell_type": "markdown",
   "metadata": {},
   "source": [
    "### Cek Dimensi"
   ]
  },
  {
   "cell_type": "code",
   "execution_count": 35,
   "metadata": {},
   "outputs": [
    {
     "name": "stdout",
     "output_type": "stream",
     "text": [
      "Shape dataset: (189083, 8)\n",
      "\n",
      "Informasi dataset:\n",
      "<class 'pandas.core.frame.DataFrame'>\n",
      "Int64Index: 189083 entries, 0 to 70893\n",
      "Data columns (total 8 columns):\n",
      " #   Column               Non-Null Count   Dtype \n",
      "---  ------               --------------   ----- \n",
      " 0   INCIDENT_NUMBER      189083 non-null  object\n",
      " 1   OFFENSE_DESCRIPTION  189083 non-null  object\n",
      " 2   DISTRICT             189083 non-null  object\n",
      " 3   YEAR                 189083 non-null  int64 \n",
      " 4   MONTH                189083 non-null  int64 \n",
      " 5   DAY_OF_WEEK          189083 non-null  object\n",
      " 6   HOUR                 189083 non-null  int64 \n",
      " 7   CODE                 189083 non-null  object\n",
      "dtypes: int64(3), object(5)\n",
      "memory usage: 17.0+ MB\n",
      "None\n",
      "\n",
      "Statistik deskriptif:\n",
      "                 YEAR          MONTH           HOUR\n",
      "count  189083.000000  189083.000000  189083.000000\n",
      "mean     2018.851499       7.021784      12.930914\n",
      "std         0.934731       3.488943       6.357792\n",
      "min      2018.000000       1.000000       0.000000\n",
      "25%      2018.000000       4.000000       9.000000\n",
      "50%      2018.000000       7.000000      14.000000\n",
      "75%      2020.000000      10.000000      18.000000\n",
      "max      2020.000000      12.000000      23.000000\n"
     ]
    }
   ],
   "source": [
    "print('Shape dataset:', df.shape)\n",
    "print('\\nInformasi dataset:')\n",
    "print(df.info())\n",
    "print('\\nStatistik deskriptif:\\n', df.describe())"
   ]
  },
  {
   "cell_type": "code",
   "execution_count": 36,
   "metadata": {},
   "outputs": [
    {
     "data": {
      "text/html": [
       "<div>\n",
       "<style scoped>\n",
       "    .dataframe tbody tr th:only-of-type {\n",
       "        vertical-align: middle;\n",
       "    }\n",
       "\n",
       "    .dataframe tbody tr th {\n",
       "        vertical-align: top;\n",
       "    }\n",
       "\n",
       "    .dataframe thead th {\n",
       "        text-align: right;\n",
       "    }\n",
       "</style>\n",
       "<table border=\"1\" class=\"dataframe\">\n",
       "  <thead>\n",
       "    <tr style=\"text-align: right;\">\n",
       "      <th></th>\n",
       "      <th>INCIDENT_NUMBER</th>\n",
       "      <th>OFFENSE_DESCRIPTION</th>\n",
       "      <th>DISTRICT</th>\n",
       "      <th>YEAR</th>\n",
       "      <th>MONTH</th>\n",
       "      <th>DAY_OF_WEEK</th>\n",
       "      <th>HOUR</th>\n",
       "      <th>CODE</th>\n",
       "    </tr>\n",
       "  </thead>\n",
       "  <tbody>\n",
       "    <tr>\n",
       "      <th>0</th>\n",
       "      <td>I192077559</td>\n",
       "      <td>INVESTIGATE PERSON</td>\n",
       "      <td>B3</td>\n",
       "      <td>2018</td>\n",
       "      <td>4</td>\n",
       "      <td>Monday</td>\n",
       "      <td>9</td>\n",
       "      <td>B</td>\n",
       "    </tr>\n",
       "    <tr>\n",
       "      <th>1</th>\n",
       "      <td>I192077332</td>\n",
       "      <td>LARCENY ALL OTHERS</td>\n",
       "      <td>E18</td>\n",
       "      <td>2018</td>\n",
       "      <td>3</td>\n",
       "      <td>Tuesday</td>\n",
       "      <td>8</td>\n",
       "      <td>E</td>\n",
       "    </tr>\n",
       "    <tr>\n",
       "      <th>2</th>\n",
       "      <td>I192076660</td>\n",
       "      <td>HARASSMENT</td>\n",
       "      <td>E5</td>\n",
       "      <td>2018</td>\n",
       "      <td>10</td>\n",
       "      <td>Wednesday</td>\n",
       "      <td>12</td>\n",
       "      <td>E</td>\n",
       "    </tr>\n",
       "    <tr>\n",
       "      <th>3</th>\n",
       "      <td>I192075386</td>\n",
       "      <td>HARASSMENT</td>\n",
       "      <td>A1</td>\n",
       "      <td>2018</td>\n",
       "      <td>4</td>\n",
       "      <td>Monday</td>\n",
       "      <td>8</td>\n",
       "      <td>A</td>\n",
       "    </tr>\n",
       "    <tr>\n",
       "      <th>4</th>\n",
       "      <td>I192075335</td>\n",
       "      <td>PROPERTY - MISSING</td>\n",
       "      <td>D4</td>\n",
       "      <td>2018</td>\n",
       "      <td>1</td>\n",
       "      <td>Monday</td>\n",
       "      <td>0</td>\n",
       "      <td>D</td>\n",
       "    </tr>\n",
       "  </tbody>\n",
       "</table>\n",
       "</div>"
      ],
      "text/plain": [
       "  INCIDENT_NUMBER OFFENSE_DESCRIPTION DISTRICT  YEAR  MONTH DAY_OF_WEEK  HOUR  \\\n",
       "0      I192077559  INVESTIGATE PERSON       B3  2018      4      Monday     9   \n",
       "1      I192077332  LARCENY ALL OTHERS      E18  2018      3     Tuesday     8   \n",
       "2      I192076660          HARASSMENT       E5  2018     10   Wednesday    12   \n",
       "3      I192075386          HARASSMENT       A1  2018      4      Monday     8   \n",
       "4      I192075335  PROPERTY - MISSING       D4  2018      1      Monday     0   \n",
       "\n",
       "  CODE  \n",
       "0    B  \n",
       "1    E  \n",
       "2    E  \n",
       "3    A  \n",
       "4    D  "
      ]
     },
     "execution_count": 36,
     "metadata": {},
     "output_type": "execute_result"
    }
   ],
   "source": [
    "df.head()"
   ]
  },
  {
   "cell_type": "code",
   "execution_count": 37,
   "metadata": {},
   "outputs": [
    {
     "name": "stdout",
     "output_type": "stream",
     "text": [
      "Shape dataset: (189083, 8)\n"
     ]
    }
   ],
   "source": [
    "print('Shape dataset:', df.shape)"
   ]
  },
  {
   "cell_type": "code",
   "execution_count": 38,
   "metadata": {
    "scrolled": true
   },
   "outputs": [
    {
     "name": "stdout",
     "output_type": "stream",
     "text": [
      "Korelasi dataset:\n",
      "            YEAR     MONTH      HOUR\n",
      "YEAR   1.000000  0.025930 -0.017211\n",
      "MONTH  0.025930  1.000000 -0.002686\n",
      "HOUR  -0.017211 -0.002686  1.000000\n"
     ]
    }
   ],
   "source": [
    "df_corr = df.corr()\n",
    "print('Korelasi dataset:\\n', df.corr())"
   ]
  },
  {
   "cell_type": "code",
   "execution_count": 39,
   "metadata": {},
   "outputs": [
    {
     "data": {
      "text/plain": [
       "INCIDENT_NUMBER        object\n",
       "OFFENSE_DESCRIPTION    object\n",
       "DISTRICT               object\n",
       "YEAR                    int64\n",
       "MONTH                   int64\n",
       "DAY_OF_WEEK            object\n",
       "HOUR                    int64\n",
       "CODE                   object\n",
       "dtype: object"
      ]
     },
     "execution_count": 39,
     "metadata": {},
     "output_type": "execute_result"
    }
   ],
   "source": [
    "df.dtypes"
   ]
  },
  {
   "cell_type": "markdown",
   "metadata": {},
   "source": [
    "## Feature Engineering"
   ]
  },
  {
   "cell_type": "code",
   "execution_count": 40,
   "metadata": {},
   "outputs": [],
   "source": [
    "df_baru= df.sample(n=10000)"
   ]
  },
  {
   "cell_type": "code",
   "execution_count": 42,
   "metadata": {},
   "outputs": [
    {
     "data": {
      "text/html": [
       "<div>\n",
       "<style scoped>\n",
       "    .dataframe tbody tr th:only-of-type {\n",
       "        vertical-align: middle;\n",
       "    }\n",
       "\n",
       "    .dataframe tbody tr th {\n",
       "        vertical-align: top;\n",
       "    }\n",
       "\n",
       "    .dataframe thead th {\n",
       "        text-align: right;\n",
       "    }\n",
       "</style>\n",
       "<table border=\"1\" class=\"dataframe\">\n",
       "  <thead>\n",
       "    <tr style=\"text-align: right;\">\n",
       "      <th></th>\n",
       "      <th>INCIDENT_NUMBER</th>\n",
       "      <th>OFFENSE_DESCRIPTION</th>\n",
       "      <th>DISTRICT</th>\n",
       "      <th>YEAR</th>\n",
       "      <th>MONTH</th>\n",
       "      <th>DAY_OF_WEEK</th>\n",
       "      <th>HOUR</th>\n",
       "      <th>CODE</th>\n",
       "    </tr>\n",
       "  </thead>\n",
       "  <tbody>\n",
       "    <tr>\n",
       "      <th>23452</th>\n",
       "      <td>202065567</td>\n",
       "      <td>SICK/INJURED/MEDICAL - PERSON</td>\n",
       "      <td>C11</td>\n",
       "      <td>2020</td>\n",
       "      <td>9</td>\n",
       "      <td>Tuesday</td>\n",
       "      <td>20</td>\n",
       "      <td>C</td>\n",
       "    </tr>\n",
       "    <tr>\n",
       "      <th>9910</th>\n",
       "      <td>202083214</td>\n",
       "      <td>INVESTIGATE PROPERTY</td>\n",
       "      <td>B3</td>\n",
       "      <td>2020</td>\n",
       "      <td>11</td>\n",
       "      <td>Tuesday</td>\n",
       "      <td>16</td>\n",
       "      <td>B</td>\n",
       "    </tr>\n",
       "    <tr>\n",
       "      <th>40503</th>\n",
       "      <td>I182062121</td>\n",
       "      <td>LARCENY THEFT FROM MV - NON-ACCESSORY</td>\n",
       "      <td>B2</td>\n",
       "      <td>2018</td>\n",
       "      <td>8</td>\n",
       "      <td>Sunday</td>\n",
       "      <td>13</td>\n",
       "      <td>B</td>\n",
       "    </tr>\n",
       "    <tr>\n",
       "      <th>1658</th>\n",
       "      <td>202094121</td>\n",
       "      <td>LARCENY THEFT FROM MV - NON-ACCESSORY</td>\n",
       "      <td>B2</td>\n",
       "      <td>2020</td>\n",
       "      <td>12</td>\n",
       "      <td>Thursday</td>\n",
       "      <td>21</td>\n",
       "      <td>B</td>\n",
       "    </tr>\n",
       "    <tr>\n",
       "      <th>56606</th>\n",
       "      <td>202019778</td>\n",
       "      <td>DEATH INVESTIGATION</td>\n",
       "      <td>C11</td>\n",
       "      <td>2020</td>\n",
       "      <td>3</td>\n",
       "      <td>Thursday</td>\n",
       "      <td>8</td>\n",
       "      <td>C</td>\n",
       "    </tr>\n",
       "  </tbody>\n",
       "</table>\n",
       "</div>"
      ],
      "text/plain": [
       "      INCIDENT_NUMBER                    OFFENSE_DESCRIPTION DISTRICT  YEAR  \\\n",
       "23452       202065567          SICK/INJURED/MEDICAL - PERSON      C11  2020   \n",
       "9910        202083214                   INVESTIGATE PROPERTY       B3  2020   \n",
       "40503      I182062121  LARCENY THEFT FROM MV - NON-ACCESSORY       B2  2018   \n",
       "1658        202094121  LARCENY THEFT FROM MV - NON-ACCESSORY       B2  2020   \n",
       "56606       202019778                    DEATH INVESTIGATION      C11  2020   \n",
       "\n",
       "       MONTH DAY_OF_WEEK  HOUR CODE  \n",
       "23452      9     Tuesday    20    C  \n",
       "9910      11     Tuesday    16    B  \n",
       "40503      8      Sunday    13    B  \n",
       "1658      12    Thursday    21    B  \n",
       "56606      3    Thursday     8    C  "
      ]
     },
     "execution_count": 42,
     "metadata": {},
     "output_type": "execute_result"
    }
   ],
   "source": [
    "df_baru.head()"
   ]
  },
  {
   "cell_type": "code",
   "execution_count": 43,
   "metadata": {},
   "outputs": [],
   "source": [
    "import pandas as pd\n",
    "from sklearn.model_selection import train_test_split"
   ]
  },
  {
   "cell_type": "code",
   "execution_count": 44,
   "metadata": {},
   "outputs": [
    {
     "data": {
      "text/plain": [
       "((8000, 4), (2000, 4), (8000,), (2000,))"
      ]
     },
     "execution_count": 44,
     "metadata": {},
     "output_type": "execute_result"
    }
   ],
   "source": [
    "x = df_baru.drop(['INCIDENT_NUMBER', 'YEAR', 'HOUR', 'CODE'], axis = 1)\n",
    "y = df_baru.HOUR\n",
    "\n",
    "x_train, x_test, y_train, y_test = train_test_split(x, y, test_size=0.2, stratify=y, random_state=42)\n",
    "x_train.shape, x_test.shape, y_train.shape, y_test.shape"
   ]
  },
  {
   "cell_type": "code",
   "execution_count": 45,
   "metadata": {},
   "outputs": [],
   "source": [
    "from sklearn.pipeline import Pipeline\n",
    "from sklearn.impute import SimpleImputer\n",
    "from sklearn.preprocessing import MinMaxScaler, OneHotEncoder"
   ]
  },
  {
   "cell_type": "code",
   "execution_count": 46,
   "metadata": {},
   "outputs": [],
   "source": [
    "numerical_pipeline = Pipeline([\n",
    "    ('imputer', SimpleImputer(strategy='mean')),\n",
    "    ('scaler', MinMaxScaler())\n",
    "])\n",
    "\n",
    "categorical_pipeline = Pipeline([\n",
    "    ('imputer', SimpleImputer(strategy='most_frequent')),\n",
    "    ('onehot', OneHotEncoder(handle_unknown='ignore'))\n",
    "])\n"
   ]
  },
  {
   "cell_type": "code",
   "execution_count": 47,
   "metadata": {},
   "outputs": [],
   "source": [
    "from sklearn.compose import ColumnTransformer"
   ]
  },
  {
   "cell_type": "code",
   "execution_count": 48,
   "metadata": {},
   "outputs": [
    {
     "data": {
      "text/html": [
       "<div>\n",
       "<style scoped>\n",
       "    .dataframe tbody tr th:only-of-type {\n",
       "        vertical-align: middle;\n",
       "    }\n",
       "\n",
       "    .dataframe tbody tr th {\n",
       "        vertical-align: top;\n",
       "    }\n",
       "\n",
       "    .dataframe thead th {\n",
       "        text-align: right;\n",
       "    }\n",
       "</style>\n",
       "<table border=\"1\" class=\"dataframe\">\n",
       "  <thead>\n",
       "    <tr style=\"text-align: right;\">\n",
       "      <th></th>\n",
       "      <th>OFFENSE_DESCRIPTION</th>\n",
       "      <th>DISTRICT</th>\n",
       "      <th>MONTH</th>\n",
       "      <th>DAY_OF_WEEK</th>\n",
       "    </tr>\n",
       "  </thead>\n",
       "  <tbody>\n",
       "    <tr>\n",
       "      <th>51186</th>\n",
       "      <td>PROPERTY - STOLEN THEN RECOVERED</td>\n",
       "      <td>C6</td>\n",
       "      <td>4</td>\n",
       "      <td>Friday</td>\n",
       "    </tr>\n",
       "    <tr>\n",
       "      <th>54222</th>\n",
       "      <td>VANDALISM</td>\n",
       "      <td>D4</td>\n",
       "      <td>6</td>\n",
       "      <td>Monday</td>\n",
       "    </tr>\n",
       "    <tr>\n",
       "      <th>19757</th>\n",
       "      <td>ASSAULT - SIMPLE</td>\n",
       "      <td>A1</td>\n",
       "      <td>10</td>\n",
       "      <td>Saturday</td>\n",
       "    </tr>\n",
       "    <tr>\n",
       "      <th>83620</th>\n",
       "      <td>INVESTIGATE PERSON</td>\n",
       "      <td>A1</td>\n",
       "      <td>3</td>\n",
       "      <td>Saturday</td>\n",
       "    </tr>\n",
       "    <tr>\n",
       "      <th>10449</th>\n",
       "      <td>DRUGS - POSSESSION/ SALE/ MANUFACTURING/ USE</td>\n",
       "      <td>B2</td>\n",
       "      <td>11</td>\n",
       "      <td>Monday</td>\n",
       "    </tr>\n",
       "  </tbody>\n",
       "</table>\n",
       "</div>"
      ],
      "text/plain": [
       "                                OFFENSE_DESCRIPTION DISTRICT  MONTH  \\\n",
       "51186              PROPERTY - STOLEN THEN RECOVERED       C6      4   \n",
       "54222                                     VANDALISM       D4      6   \n",
       "19757                              ASSAULT - SIMPLE       A1     10   \n",
       "83620                            INVESTIGATE PERSON       A1      3   \n",
       "10449  DRUGS - POSSESSION/ SALE/ MANUFACTURING/ USE       B2     11   \n",
       "\n",
       "      DAY_OF_WEEK  \n",
       "51186      Friday  \n",
       "54222      Monday  \n",
       "19757    Saturday  \n",
       "83620    Saturday  \n",
       "10449      Monday  "
      ]
     },
     "execution_count": 48,
     "metadata": {},
     "output_type": "execute_result"
    }
   ],
   "source": [
    "x_train.head()"
   ]
  },
  {
   "cell_type": "code",
   "execution_count": 49,
   "metadata": {},
   "outputs": [],
   "source": [
    "preprocessor = ColumnTransformer([\n",
    "    ('numeric', numerical_pipeline, ['MONTH']),\n",
    "    ('categoric', categorical_pipeline, ['OFFENSE_DESCRIPTION', 'DISTRICT','DAY_OF_WEEK'])\n",
    "])"
   ]
  },
  {
   "cell_type": "markdown",
   "metadata": {},
   "source": [
    "## Pemodelan"
   ]
  },
  {
   "cell_type": "markdown",
   "metadata": {},
   "source": [
    "### KNN"
   ]
  },
  {
   "cell_type": "code",
   "execution_count": 50,
   "metadata": {},
   "outputs": [],
   "source": [
    "from sklearn.neighbors import KNeighborsRegressor"
   ]
  },
  {
   "cell_type": "code",
   "execution_count": 51,
   "metadata": {},
   "outputs": [],
   "source": [
    "pipeline = Pipeline([\n",
    "    ('prep', preprocessor),\n",
    "    ('algo', KNeighborsRegressor())\n",
    "])"
   ]
  },
  {
   "cell_type": "code",
   "execution_count": 52,
   "metadata": {},
   "outputs": [
    {
     "data": {
      "text/plain": [
       "Pipeline(steps=[('prep',\n",
       "                 ColumnTransformer(transformers=[('numeric',\n",
       "                                                  Pipeline(steps=[('imputer',\n",
       "                                                                   SimpleImputer()),\n",
       "                                                                  ('scaler',\n",
       "                                                                   MinMaxScaler())]),\n",
       "                                                  ['MONTH']),\n",
       "                                                 ('categoric',\n",
       "                                                  Pipeline(steps=[('imputer',\n",
       "                                                                   SimpleImputer(strategy='most_frequent')),\n",
       "                                                                  ('onehot',\n",
       "                                                                   OneHotEncoder(handle_unknown='ignore'))]),\n",
       "                                                  ['OFFENSE_DESCRIPTION',\n",
       "                                                   'DISTRICT',\n",
       "                                                   'DAY_OF_WEEK'])])),\n",
       "                ('algo', KNeighborsRegressor())])"
      ]
     },
     "execution_count": 52,
     "metadata": {},
     "output_type": "execute_result"
    }
   ],
   "source": [
    "pipeline.fit(x_train, y_train)"
   ]
  },
  {
   "cell_type": "code",
   "execution_count": 53,
   "metadata": {},
   "outputs": [
    {
     "data": {
      "text/plain": [
       "-0.14824473577623243"
      ]
     },
     "execution_count": 53,
     "metadata": {},
     "output_type": "execute_result"
    }
   ],
   "source": [
    "pipeline.score(x_test, y_test)"
   ]
  },
  {
   "cell_type": "markdown",
   "metadata": {},
   "source": [
    "### Tuning Model"
   ]
  },
  {
   "cell_type": "code",
   "execution_count": 54,
   "metadata": {},
   "outputs": [],
   "source": [
    "from sklearn.model_selection import GridSearchCV"
   ]
  },
  {
   "cell_type": "code",
   "execution_count": 55,
   "metadata": {},
   "outputs": [
    {
     "name": "stdout",
     "output_type": "stream",
     "text": [
      "Fitting 3 folds for each of 100 candidates, totalling 300 fits\n"
     ]
    },
    {
     "name": "stderr",
     "output_type": "stream",
     "text": [
      "[Parallel(n_jobs=-1)]: Using backend LokyBackend with 2 concurrent workers.\n",
      "[Parallel(n_jobs=-1)]: Done  46 tasks      | elapsed:  1.1min\n",
      "[Parallel(n_jobs=-1)]: Done 196 tasks      | elapsed:  3.4min\n",
      "[Parallel(n_jobs=-1)]: Done 300 out of 300 | elapsed:  4.8min finished\n"
     ]
    },
    {
     "data": {
      "text/plain": [
       "GridSearchCV(cv=3,\n",
       "             estimator=Pipeline(steps=[('prep',\n",
       "                                        ColumnTransformer(transformers=[('numeric',\n",
       "                                                                         Pipeline(steps=[('imputer',\n",
       "                                                                                          SimpleImputer()),\n",
       "                                                                                         ('scaler',\n",
       "                                                                                          MinMaxScaler())]),\n",
       "                                                                         ['MONTH']),\n",
       "                                                                        ('categoric',\n",
       "                                                                         Pipeline(steps=[('imputer',\n",
       "                                                                                          SimpleImputer(strategy='most_frequent')),\n",
       "                                                                                         ('onehot',\n",
       "                                                                                          OneHotEncoder(handle_unknown='ignore'))]),\n",
       "                                                                         ['OFFENSE_DESCRIPTION',\n",
       "                                                                          'DISTRICT',\n",
       "                                                                          'DAY_OF_WEEK'])])),\n",
       "                                       ('algo', KNeighborsRegressor())]),\n",
       "             n_jobs=-1,\n",
       "             param_grid={'algo__n_neighbors': range(1, 51, 2),\n",
       "                         'algo__p': [1, 2],\n",
       "                         'algo__weights': ['uniform', 'distance']},\n",
       "             verbose=1)"
      ]
     },
     "execution_count": 55,
     "metadata": {},
     "output_type": "execute_result"
    }
   ],
   "source": [
    "parameter = {\n",
    "    \"algo__n_neighbors\": range(1, 51, 2),\n",
    "    \"algo__weights\": [\"uniform\",\"distance\"],\n",
    "    \"algo__p\": [1, 2]\n",
    "}\n",
    "\n",
    "model = GridSearchCV(pipeline, parameter, cv=3, n_jobs=-1, verbose=1)\n",
    "model.fit(x_train,y_train)"
   ]
  },
  {
   "cell_type": "code",
   "execution_count": 56,
   "metadata": {},
   "outputs": [
    {
     "data": {
      "text/html": [
       "<div>\n",
       "<style scoped>\n",
       "    .dataframe tbody tr th:only-of-type {\n",
       "        vertical-align: middle;\n",
       "    }\n",
       "\n",
       "    .dataframe tbody tr th {\n",
       "        vertical-align: top;\n",
       "    }\n",
       "\n",
       "    .dataframe thead th {\n",
       "        text-align: right;\n",
       "    }\n",
       "</style>\n",
       "<table border=\"1\" class=\"dataframe\">\n",
       "  <thead>\n",
       "    <tr style=\"text-align: right;\">\n",
       "      <th></th>\n",
       "      <th>mean_fit_time</th>\n",
       "      <th>std_fit_time</th>\n",
       "      <th>mean_score_time</th>\n",
       "      <th>std_score_time</th>\n",
       "      <th>param_algo__n_neighbors</th>\n",
       "      <th>param_algo__p</th>\n",
       "      <th>param_algo__weights</th>\n",
       "      <th>params</th>\n",
       "      <th>split0_test_score</th>\n",
       "      <th>split1_test_score</th>\n",
       "      <th>split2_test_score</th>\n",
       "      <th>mean_test_score</th>\n",
       "      <th>std_test_score</th>\n",
       "      <th>rank_test_score</th>\n",
       "    </tr>\n",
       "  </thead>\n",
       "  <tbody>\n",
       "    <tr>\n",
       "      <th>70</th>\n",
       "      <td>0.146666</td>\n",
       "      <td>0.008496</td>\n",
       "      <td>1.243331</td>\n",
       "      <td>0.018861</td>\n",
       "      <td>35</td>\n",
       "      <td>2</td>\n",
       "      <td>uniform</td>\n",
       "      <td>{'algo__n_neighbors': 35, 'algo__p': 2, 'algo_...</td>\n",
       "      <td>-0.010793</td>\n",
       "      <td>-0.007186</td>\n",
       "      <td>-0.012965</td>\n",
       "      <td>-0.010315</td>\n",
       "      <td>0.002384</td>\n",
       "      <td>1</td>\n",
       "    </tr>\n",
       "    <tr>\n",
       "      <th>78</th>\n",
       "      <td>0.146665</td>\n",
       "      <td>0.006235</td>\n",
       "      <td>1.301666</td>\n",
       "      <td>0.027185</td>\n",
       "      <td>39</td>\n",
       "      <td>2</td>\n",
       "      <td>uniform</td>\n",
       "      <td>{'algo__n_neighbors': 39, 'algo__p': 2, 'algo_...</td>\n",
       "      <td>-0.008669</td>\n",
       "      <td>-0.009265</td>\n",
       "      <td>-0.013654</td>\n",
       "      <td>-0.010529</td>\n",
       "      <td>0.002223</td>\n",
       "      <td>2</td>\n",
       "    </tr>\n",
       "    <tr>\n",
       "      <th>98</th>\n",
       "      <td>0.148331</td>\n",
       "      <td>0.004718</td>\n",
       "      <td>1.268332</td>\n",
       "      <td>0.022484</td>\n",
       "      <td>49</td>\n",
       "      <td>2</td>\n",
       "      <td>uniform</td>\n",
       "      <td>{'algo__n_neighbors': 49, 'algo__p': 2, 'algo_...</td>\n",
       "      <td>-0.008334</td>\n",
       "      <td>-0.008922</td>\n",
       "      <td>-0.014453</td>\n",
       "      <td>-0.010570</td>\n",
       "      <td>0.002756</td>\n",
       "      <td>3</td>\n",
       "    </tr>\n",
       "    <tr>\n",
       "      <th>96</th>\n",
       "      <td>0.174999</td>\n",
       "      <td>0.010799</td>\n",
       "      <td>1.701660</td>\n",
       "      <td>0.030640</td>\n",
       "      <td>49</td>\n",
       "      <td>1</td>\n",
       "      <td>uniform</td>\n",
       "      <td>{'algo__n_neighbors': 49, 'algo__p': 1, 'algo_...</td>\n",
       "      <td>-0.007373</td>\n",
       "      <td>-0.010416</td>\n",
       "      <td>-0.014449</td>\n",
       "      <td>-0.010746</td>\n",
       "      <td>0.002898</td>\n",
       "      <td>4</td>\n",
       "    </tr>\n",
       "    <tr>\n",
       "      <th>82</th>\n",
       "      <td>0.163334</td>\n",
       "      <td>0.006237</td>\n",
       "      <td>1.204996</td>\n",
       "      <td>0.042427</td>\n",
       "      <td>41</td>\n",
       "      <td>2</td>\n",
       "      <td>uniform</td>\n",
       "      <td>{'algo__n_neighbors': 41, 'algo__p': 2, 'algo_...</td>\n",
       "      <td>-0.008505</td>\n",
       "      <td>-0.009733</td>\n",
       "      <td>-0.014001</td>\n",
       "      <td>-0.010747</td>\n",
       "      <td>0.002355</td>\n",
       "      <td>5</td>\n",
       "    </tr>\n",
       "    <tr>\n",
       "      <th>...</th>\n",
       "      <td>...</td>\n",
       "      <td>...</td>\n",
       "      <td>...</td>\n",
       "      <td>...</td>\n",
       "      <td>...</td>\n",
       "      <td>...</td>\n",
       "      <td>...</td>\n",
       "      <td>...</td>\n",
       "      <td>...</td>\n",
       "      <td>...</td>\n",
       "      <td>...</td>\n",
       "      <td>...</td>\n",
       "      <td>...</td>\n",
       "      <td>...</td>\n",
       "    </tr>\n",
       "    <tr>\n",
       "      <th>5</th>\n",
       "      <td>0.138331</td>\n",
       "      <td>0.008496</td>\n",
       "      <td>1.358329</td>\n",
       "      <td>0.036589</td>\n",
       "      <td>3</td>\n",
       "      <td>1</td>\n",
       "      <td>distance</td>\n",
       "      <td>{'algo__n_neighbors': 3, 'algo__p': 1, 'algo__...</td>\n",
       "      <td>-0.482440</td>\n",
       "      <td>-0.524015</td>\n",
       "      <td>-0.485363</td>\n",
       "      <td>-0.497272</td>\n",
       "      <td>0.018947</td>\n",
       "      <td>96</td>\n",
       "    </tr>\n",
       "    <tr>\n",
       "      <th>1</th>\n",
       "      <td>0.151663</td>\n",
       "      <td>0.011784</td>\n",
       "      <td>1.231666</td>\n",
       "      <td>0.015454</td>\n",
       "      <td>1</td>\n",
       "      <td>1</td>\n",
       "      <td>distance</td>\n",
       "      <td>{'algo__n_neighbors': 1, 'algo__p': 1, 'algo__...</td>\n",
       "      <td>-0.973951</td>\n",
       "      <td>-0.995142</td>\n",
       "      <td>-0.999071</td>\n",
       "      <td>-0.989388</td>\n",
       "      <td>0.011033</td>\n",
       "      <td>97</td>\n",
       "    </tr>\n",
       "    <tr>\n",
       "      <th>0</th>\n",
       "      <td>0.161664</td>\n",
       "      <td>0.011787</td>\n",
       "      <td>1.322977</td>\n",
       "      <td>0.028068</td>\n",
       "      <td>1</td>\n",
       "      <td>1</td>\n",
       "      <td>uniform</td>\n",
       "      <td>{'algo__n_neighbors': 1, 'algo__p': 1, 'algo__...</td>\n",
       "      <td>-0.973951</td>\n",
       "      <td>-0.995142</td>\n",
       "      <td>-0.999071</td>\n",
       "      <td>-0.989388</td>\n",
       "      <td>0.011033</td>\n",
       "      <td>97</td>\n",
       "    </tr>\n",
       "    <tr>\n",
       "      <th>3</th>\n",
       "      <td>0.138331</td>\n",
       "      <td>0.002356</td>\n",
       "      <td>1.078332</td>\n",
       "      <td>0.039655</td>\n",
       "      <td>1</td>\n",
       "      <td>2</td>\n",
       "      <td>distance</td>\n",
       "      <td>{'algo__n_neighbors': 1, 'algo__p': 2, 'algo__...</td>\n",
       "      <td>-0.968726</td>\n",
       "      <td>-1.004442</td>\n",
       "      <td>-0.999163</td>\n",
       "      <td>-0.990777</td>\n",
       "      <td>0.015741</td>\n",
       "      <td>99</td>\n",
       "    </tr>\n",
       "    <tr>\n",
       "      <th>2</th>\n",
       "      <td>0.153332</td>\n",
       "      <td>0.019289</td>\n",
       "      <td>1.121667</td>\n",
       "      <td>0.030916</td>\n",
       "      <td>1</td>\n",
       "      <td>2</td>\n",
       "      <td>uniform</td>\n",
       "      <td>{'algo__n_neighbors': 1, 'algo__p': 2, 'algo__...</td>\n",
       "      <td>-0.968726</td>\n",
       "      <td>-1.004442</td>\n",
       "      <td>-0.999163</td>\n",
       "      <td>-0.990777</td>\n",
       "      <td>0.015741</td>\n",
       "      <td>99</td>\n",
       "    </tr>\n",
       "  </tbody>\n",
       "</table>\n",
       "<p>100 rows × 14 columns</p>\n",
       "</div>"
      ],
      "text/plain": [
       "    mean_fit_time  std_fit_time  mean_score_time  std_score_time  \\\n",
       "70       0.146666      0.008496         1.243331        0.018861   \n",
       "78       0.146665      0.006235         1.301666        0.027185   \n",
       "98       0.148331      0.004718         1.268332        0.022484   \n",
       "96       0.174999      0.010799         1.701660        0.030640   \n",
       "82       0.163334      0.006237         1.204996        0.042427   \n",
       "..            ...           ...              ...             ...   \n",
       "5        0.138331      0.008496         1.358329        0.036589   \n",
       "1        0.151663      0.011784         1.231666        0.015454   \n",
       "0        0.161664      0.011787         1.322977        0.028068   \n",
       "3        0.138331      0.002356         1.078332        0.039655   \n",
       "2        0.153332      0.019289         1.121667        0.030916   \n",
       "\n",
       "   param_algo__n_neighbors param_algo__p param_algo__weights  \\\n",
       "70                      35             2             uniform   \n",
       "78                      39             2             uniform   \n",
       "98                      49             2             uniform   \n",
       "96                      49             1             uniform   \n",
       "82                      41             2             uniform   \n",
       "..                     ...           ...                 ...   \n",
       "5                        3             1            distance   \n",
       "1                        1             1            distance   \n",
       "0                        1             1             uniform   \n",
       "3                        1             2            distance   \n",
       "2                        1             2             uniform   \n",
       "\n",
       "                                               params  split0_test_score  \\\n",
       "70  {'algo__n_neighbors': 35, 'algo__p': 2, 'algo_...          -0.010793   \n",
       "78  {'algo__n_neighbors': 39, 'algo__p': 2, 'algo_...          -0.008669   \n",
       "98  {'algo__n_neighbors': 49, 'algo__p': 2, 'algo_...          -0.008334   \n",
       "96  {'algo__n_neighbors': 49, 'algo__p': 1, 'algo_...          -0.007373   \n",
       "82  {'algo__n_neighbors': 41, 'algo__p': 2, 'algo_...          -0.008505   \n",
       "..                                                ...                ...   \n",
       "5   {'algo__n_neighbors': 3, 'algo__p': 1, 'algo__...          -0.482440   \n",
       "1   {'algo__n_neighbors': 1, 'algo__p': 1, 'algo__...          -0.973951   \n",
       "0   {'algo__n_neighbors': 1, 'algo__p': 1, 'algo__...          -0.973951   \n",
       "3   {'algo__n_neighbors': 1, 'algo__p': 2, 'algo__...          -0.968726   \n",
       "2   {'algo__n_neighbors': 1, 'algo__p': 2, 'algo__...          -0.968726   \n",
       "\n",
       "    split1_test_score  split2_test_score  mean_test_score  std_test_score  \\\n",
       "70          -0.007186          -0.012965        -0.010315        0.002384   \n",
       "78          -0.009265          -0.013654        -0.010529        0.002223   \n",
       "98          -0.008922          -0.014453        -0.010570        0.002756   \n",
       "96          -0.010416          -0.014449        -0.010746        0.002898   \n",
       "82          -0.009733          -0.014001        -0.010747        0.002355   \n",
       "..                ...                ...              ...             ...   \n",
       "5           -0.524015          -0.485363        -0.497272        0.018947   \n",
       "1           -0.995142          -0.999071        -0.989388        0.011033   \n",
       "0           -0.995142          -0.999071        -0.989388        0.011033   \n",
       "3           -1.004442          -0.999163        -0.990777        0.015741   \n",
       "2           -1.004442          -0.999163        -0.990777        0.015741   \n",
       "\n",
       "    rank_test_score  \n",
       "70                1  \n",
       "78                2  \n",
       "98                3  \n",
       "96                4  \n",
       "82                5  \n",
       "..              ...  \n",
       "5                96  \n",
       "1                97  \n",
       "0                97  \n",
       "3                99  \n",
       "2                99  \n",
       "\n",
       "[100 rows x 14 columns]"
      ]
     },
     "execution_count": 56,
     "metadata": {},
     "output_type": "execute_result"
    }
   ],
   "source": [
    "pd.DataFrame(model.cv_results_).sort_values('rank_test_score')"
   ]
  },
  {
   "cell_type": "code",
   "execution_count": 57,
   "metadata": {},
   "outputs": [
    {
     "data": {
      "text/plain": [
       "{'algo__n_neighbors': 35, 'algo__p': 2, 'algo__weights': 'uniform'}"
      ]
     },
     "execution_count": 57,
     "metadata": {},
     "output_type": "execute_result"
    }
   ],
   "source": [
    "model.best_params_"
   ]
  },
  {
   "cell_type": "code",
   "execution_count": 58,
   "metadata": {},
   "outputs": [
    {
     "data": {
      "text/plain": [
       "(0.0484576852611166, -0.018875961556247267)"
      ]
     },
     "execution_count": 58,
     "metadata": {},
     "output_type": "execute_result"
    }
   ],
   "source": [
    "model.score(x_train, y_train), model.score(x_test, y_test)"
   ]
  },
  {
   "cell_type": "markdown",
   "metadata": {},
   "source": [
    "### DTR Regression"
   ]
  },
  {
   "cell_type": "code",
   "execution_count": 61,
   "metadata": {},
   "outputs": [
    {
     "data": {
      "text/plain": [
       "-0.8914064117309726"
      ]
     },
     "execution_count": 61,
     "metadata": {},
     "output_type": "execute_result"
    }
   ],
   "source": [
    "from sklearn.tree import DecisionTreeRegressor\n",
    "\n",
    "pipeline = Pipeline([\n",
    "    ('prep', preprocessor),\n",
    "    ('algo', DecisionTreeRegressor())\n",
    "])\n",
    "\n",
    "pipeline.fit(x_train, y_train)\n",
    "\n",
    "pipeline.score(x_test, y_test)"
   ]
  },
  {
   "cell_type": "markdown",
   "metadata": {},
   "source": [
    "### Tuning Model"
   ]
  },
  {
   "cell_type": "code",
   "execution_count": 63,
   "metadata": {},
   "outputs": [],
   "source": [
    "from sklearn.model_selection import GridSearchCV"
   ]
  },
  {
   "cell_type": "code",
   "execution_count": 65,
   "metadata": {},
   "outputs": [
    {
     "name": "stdout",
     "output_type": "stream",
     "text": [
      "Fitting 3 folds for each of 2 candidates, totalling 6 fits\n"
     ]
    },
    {
     "name": "stderr",
     "output_type": "stream",
     "text": [
      "[Parallel(n_jobs=-1)]: Using backend LokyBackend with 2 concurrent workers.\n",
      "[Parallel(n_jobs=-1)]: Done   6 out of   6 | elapsed:  7.3min finished\n"
     ]
    },
    {
     "data": {
      "text/plain": [
       "GridSearchCV(cv=3,\n",
       "             estimator=Pipeline(steps=[('prep',\n",
       "                                        ColumnTransformer(transformers=[('numeric',\n",
       "                                                                         Pipeline(steps=[('imputer',\n",
       "                                                                                          SimpleImputer()),\n",
       "                                                                                         ('scaler',\n",
       "                                                                                          MinMaxScaler())]),\n",
       "                                                                         ['MONTH']),\n",
       "                                                                        ('categoric',\n",
       "                                                                         Pipeline(steps=[('imputer',\n",
       "                                                                                          SimpleImputer(strategy='most_frequent')),\n",
       "                                                                                         ('onehot',\n",
       "                                                                                          OneHotEncoder(handle_unknown='ignore'))]),\n",
       "                                                                         ['OFFENSE_DESCRIPTION',\n",
       "                                                                          'DISTRICT',\n",
       "                                                                          'DAY_OF_WEEK'])])),\n",
       "                                       ('algo', DecisionTreeRegressor())]),\n",
       "             n_jobs=-1, param_grid={'algo__criterion': ['mse', 'mae']},\n",
       "             verbose=1)"
      ]
     },
     "execution_count": 65,
     "metadata": {},
     "output_type": "execute_result"
    }
   ],
   "source": [
    "parameter = {'algo__criterion': ['mse', 'mae']}\n",
    "    \n",
    "\n",
    "model = GridSearchCV(pipeline, parameter, cv=3, n_jobs=-1, verbose=1)\n",
    "model.fit(x_train,y_train)"
   ]
  },
  {
   "cell_type": "code",
   "execution_count": 66,
   "metadata": {},
   "outputs": [
    {
     "data": {
      "text/html": [
       "<div>\n",
       "<style scoped>\n",
       "    .dataframe tbody tr th:only-of-type {\n",
       "        vertical-align: middle;\n",
       "    }\n",
       "\n",
       "    .dataframe tbody tr th {\n",
       "        vertical-align: top;\n",
       "    }\n",
       "\n",
       "    .dataframe thead th {\n",
       "        text-align: right;\n",
       "    }\n",
       "</style>\n",
       "<table border=\"1\" class=\"dataframe\">\n",
       "  <thead>\n",
       "    <tr style=\"text-align: right;\">\n",
       "      <th></th>\n",
       "      <th>mean_fit_time</th>\n",
       "      <th>std_fit_time</th>\n",
       "      <th>mean_score_time</th>\n",
       "      <th>std_score_time</th>\n",
       "      <th>param_algo__criterion</th>\n",
       "      <th>params</th>\n",
       "      <th>split0_test_score</th>\n",
       "      <th>split1_test_score</th>\n",
       "      <th>split2_test_score</th>\n",
       "      <th>mean_test_score</th>\n",
       "      <th>std_test_score</th>\n",
       "      <th>rank_test_score</th>\n",
       "    </tr>\n",
       "  </thead>\n",
       "  <tbody>\n",
       "    <tr>\n",
       "      <th>0</th>\n",
       "      <td>0.511664</td>\n",
       "      <td>0.024609</td>\n",
       "      <td>0.035000</td>\n",
       "      <td>0.007071</td>\n",
       "      <td>mse</td>\n",
       "      <td>{'algo__criterion': 'mse'}</td>\n",
       "      <td>-0.895359</td>\n",
       "      <td>-0.918752</td>\n",
       "      <td>-0.809427</td>\n",
       "      <td>-0.874513</td>\n",
       "      <td>0.047003</td>\n",
       "      <td>1</td>\n",
       "    </tr>\n",
       "    <tr>\n",
       "      <th>1</th>\n",
       "      <td>238.579091</td>\n",
       "      <td>37.647213</td>\n",
       "      <td>0.030013</td>\n",
       "      <td>0.004069</td>\n",
       "      <td>mae</td>\n",
       "      <td>{'algo__criterion': 'mae'}</td>\n",
       "      <td>-0.873287</td>\n",
       "      <td>-0.964211</td>\n",
       "      <td>-0.857943</td>\n",
       "      <td>-0.898480</td>\n",
       "      <td>0.046899</td>\n",
       "      <td>2</td>\n",
       "    </tr>\n",
       "  </tbody>\n",
       "</table>\n",
       "</div>"
      ],
      "text/plain": [
       "   mean_fit_time  std_fit_time  mean_score_time  std_score_time  \\\n",
       "0       0.511664      0.024609         0.035000        0.007071   \n",
       "1     238.579091     37.647213         0.030013        0.004069   \n",
       "\n",
       "  param_algo__criterion                      params  split0_test_score  \\\n",
       "0                   mse  {'algo__criterion': 'mse'}          -0.895359   \n",
       "1                   mae  {'algo__criterion': 'mae'}          -0.873287   \n",
       "\n",
       "   split1_test_score  split2_test_score  mean_test_score  std_test_score  \\\n",
       "0          -0.918752          -0.809427        -0.874513        0.047003   \n",
       "1          -0.964211          -0.857943        -0.898480        0.046899   \n",
       "\n",
       "   rank_test_score  \n",
       "0                1  \n",
       "1                2  "
      ]
     },
     "execution_count": 66,
     "metadata": {},
     "output_type": "execute_result"
    }
   ],
   "source": [
    "pd.DataFrame(model.cv_results_).sort_values('rank_test_score')"
   ]
  },
  {
   "cell_type": "code",
   "execution_count": 67,
   "metadata": {},
   "outputs": [
    {
     "data": {
      "text/plain": [
       "{'algo__criterion': 'mse'}"
      ]
     },
     "execution_count": 67,
     "metadata": {},
     "output_type": "execute_result"
    }
   ],
   "source": [
    "model.best_params_"
   ]
  },
  {
   "cell_type": "code",
   "execution_count": 68,
   "metadata": {},
   "outputs": [
    {
     "data": {
      "text/plain": [
       "(0.8853786281683682, -0.8692626724013046)"
      ]
     },
     "execution_count": 68,
     "metadata": {},
     "output_type": "execute_result"
    }
   ],
   "source": [
    "model.score(x_train, y_train), model.score(x_test, y_test)"
   ]
  },
  {
   "cell_type": "markdown",
   "metadata": {},
   "source": [
    "## Prediction"
   ]
  },
  {
   "cell_type": "code",
   "execution_count": 74,
   "metadata": {},
   "outputs": [],
   "source": [
    "from sklearn.neighbors import KNeighborsRegressor"
   ]
  },
  {
   "cell_type": "code",
   "execution_count": 75,
   "metadata": {},
   "outputs": [],
   "source": [
    "pipeline = Pipeline([\n",
    "    ('prep', preprocessor),\n",
    "    ('algo', KNeighborsRegressor())\n",
    "])"
   ]
  },
  {
   "cell_type": "code",
   "execution_count": 76,
   "metadata": {},
   "outputs": [
    {
     "data": {
      "text/plain": [
       "Pipeline(steps=[('prep',\n",
       "                 ColumnTransformer(transformers=[('numeric',\n",
       "                                                  Pipeline(steps=[('imputer',\n",
       "                                                                   SimpleImputer()),\n",
       "                                                                  ('scaler',\n",
       "                                                                   MinMaxScaler())]),\n",
       "                                                  ['MONTH']),\n",
       "                                                 ('categoric',\n",
       "                                                  Pipeline(steps=[('imputer',\n",
       "                                                                   SimpleImputer(strategy='most_frequent')),\n",
       "                                                                  ('onehot',\n",
       "                                                                   OneHotEncoder(handle_unknown='ignore'))]),\n",
       "                                                  ['OFFENSE_DESCRIPTION',\n",
       "                                                   'DISTRICT',\n",
       "                                                   'DAY_OF_WEEK'])])),\n",
       "                ('algo', KNeighborsRegressor())])"
      ]
     },
     "execution_count": 76,
     "metadata": {},
     "output_type": "execute_result"
    }
   ],
   "source": [
    "pipeline.fit(x_train, y_train)"
   ]
  },
  {
   "cell_type": "code",
   "execution_count": 53,
   "metadata": {},
   "outputs": [
    {
     "data": {
      "text/plain": [
       "-0.14824473577623243"
      ]
     },
     "execution_count": 53,
     "metadata": {},
     "output_type": "execute_result"
    }
   ],
   "source": [
    "pipeline.score(x_test, y_test)"
   ]
  },
  {
   "cell_type": "markdown",
   "metadata": {},
   "source": [
    "### Tuning Model"
   ]
  },
  {
   "cell_type": "code",
   "execution_count": 77,
   "metadata": {},
   "outputs": [],
   "source": [
    "from sklearn.model_selection import GridSearchCV"
   ]
  },
  {
   "cell_type": "code",
   "execution_count": 78,
   "metadata": {},
   "outputs": [
    {
     "name": "stdout",
     "output_type": "stream",
     "text": [
      "Fitting 3 folds for each of 100 candidates, totalling 300 fits\n"
     ]
    },
    {
     "name": "stderr",
     "output_type": "stream",
     "text": [
      "[Parallel(n_jobs=-1)]: Using backend LokyBackend with 2 concurrent workers.\n",
      "[Parallel(n_jobs=-1)]: Done  46 tasks      | elapsed:   54.8s\n",
      "[Parallel(n_jobs=-1)]: Done 196 tasks      | elapsed:  3.2min\n",
      "[Parallel(n_jobs=-1)]: Done 300 out of 300 | elapsed:  4.9min finished\n"
     ]
    },
    {
     "data": {
      "text/plain": [
       "GridSearchCV(cv=3,\n",
       "             estimator=Pipeline(steps=[('prep',\n",
       "                                        ColumnTransformer(transformers=[('numeric',\n",
       "                                                                         Pipeline(steps=[('imputer',\n",
       "                                                                                          SimpleImputer()),\n",
       "                                                                                         ('scaler',\n",
       "                                                                                          MinMaxScaler())]),\n",
       "                                                                         ['MONTH']),\n",
       "                                                                        ('categoric',\n",
       "                                                                         Pipeline(steps=[('imputer',\n",
       "                                                                                          SimpleImputer(strategy='most_frequent')),\n",
       "                                                                                         ('onehot',\n",
       "                                                                                          OneHotEncoder(handle_unknown='ignore'))]),\n",
       "                                                                         ['OFFENSE_DESCRIPTION',\n",
       "                                                                          'DISTRICT',\n",
       "                                                                          'DAY_OF_WEEK'])])),\n",
       "                                       ('algo', KNeighborsRegressor())]),\n",
       "             n_jobs=-1,\n",
       "             param_grid={'algo__n_neighbors': range(1, 51, 2),\n",
       "                         'algo__p': [1, 2],\n",
       "                         'algo__weights': ['uniform', 'distance']},\n",
       "             verbose=1)"
      ]
     },
     "execution_count": 78,
     "metadata": {},
     "output_type": "execute_result"
    }
   ],
   "source": [
    "parameter = {\n",
    "    \"algo__n_neighbors\": range(1, 51, 2),\n",
    "    \"algo__weights\": [\"uniform\",\"distance\"],\n",
    "    \"algo__p\": [1, 2]\n",
    "}\n",
    "\n",
    "model = GridSearchCV(pipeline, parameter, cv=3, n_jobs=-1, verbose=1)\n",
    "model.fit(x_train,y_train)"
   ]
  },
  {
   "cell_type": "code",
   "execution_count": 79,
   "metadata": {},
   "outputs": [
    {
     "data": {
      "text/html": [
       "<div>\n",
       "<style scoped>\n",
       "    .dataframe tbody tr th:only-of-type {\n",
       "        vertical-align: middle;\n",
       "    }\n",
       "\n",
       "    .dataframe tbody tr th {\n",
       "        vertical-align: top;\n",
       "    }\n",
       "\n",
       "    .dataframe thead th {\n",
       "        text-align: right;\n",
       "    }\n",
       "</style>\n",
       "<table border=\"1\" class=\"dataframe\">\n",
       "  <thead>\n",
       "    <tr style=\"text-align: right;\">\n",
       "      <th></th>\n",
       "      <th>mean_fit_time</th>\n",
       "      <th>std_fit_time</th>\n",
       "      <th>mean_score_time</th>\n",
       "      <th>std_score_time</th>\n",
       "      <th>param_algo__n_neighbors</th>\n",
       "      <th>param_algo__p</th>\n",
       "      <th>param_algo__weights</th>\n",
       "      <th>params</th>\n",
       "      <th>split0_test_score</th>\n",
       "      <th>split1_test_score</th>\n",
       "      <th>split2_test_score</th>\n",
       "      <th>mean_test_score</th>\n",
       "      <th>std_test_score</th>\n",
       "      <th>rank_test_score</th>\n",
       "    </tr>\n",
       "  </thead>\n",
       "  <tbody>\n",
       "    <tr>\n",
       "      <th>70</th>\n",
       "      <td>0.304670</td>\n",
       "      <td>0.042085</td>\n",
       "      <td>1.582328</td>\n",
       "      <td>0.184710</td>\n",
       "      <td>35</td>\n",
       "      <td>2</td>\n",
       "      <td>uniform</td>\n",
       "      <td>{'algo__n_neighbors': 35, 'algo__p': 2, 'algo_...</td>\n",
       "      <td>-0.010793</td>\n",
       "      <td>-0.007186</td>\n",
       "      <td>-0.012965</td>\n",
       "      <td>-0.010315</td>\n",
       "      <td>0.002384</td>\n",
       "      <td>1</td>\n",
       "    </tr>\n",
       "    <tr>\n",
       "      <th>78</th>\n",
       "      <td>0.172338</td>\n",
       "      <td>0.016820</td>\n",
       "      <td>1.440329</td>\n",
       "      <td>0.131834</td>\n",
       "      <td>39</td>\n",
       "      <td>2</td>\n",
       "      <td>uniform</td>\n",
       "      <td>{'algo__n_neighbors': 39, 'algo__p': 2, 'algo_...</td>\n",
       "      <td>-0.008669</td>\n",
       "      <td>-0.009265</td>\n",
       "      <td>-0.013654</td>\n",
       "      <td>-0.010529</td>\n",
       "      <td>0.002223</td>\n",
       "      <td>2</td>\n",
       "    </tr>\n",
       "    <tr>\n",
       "      <th>98</th>\n",
       "      <td>0.204003</td>\n",
       "      <td>0.053071</td>\n",
       "      <td>1.550329</td>\n",
       "      <td>0.249671</td>\n",
       "      <td>49</td>\n",
       "      <td>2</td>\n",
       "      <td>uniform</td>\n",
       "      <td>{'algo__n_neighbors': 49, 'algo__p': 2, 'algo_...</td>\n",
       "      <td>-0.008334</td>\n",
       "      <td>-0.008922</td>\n",
       "      <td>-0.014453</td>\n",
       "      <td>-0.010570</td>\n",
       "      <td>0.002756</td>\n",
       "      <td>3</td>\n",
       "    </tr>\n",
       "    <tr>\n",
       "      <th>96</th>\n",
       "      <td>0.155001</td>\n",
       "      <td>0.009416</td>\n",
       "      <td>1.610663</td>\n",
       "      <td>0.038964</td>\n",
       "      <td>49</td>\n",
       "      <td>1</td>\n",
       "      <td>uniform</td>\n",
       "      <td>{'algo__n_neighbors': 49, 'algo__p': 1, 'algo_...</td>\n",
       "      <td>-0.007373</td>\n",
       "      <td>-0.010416</td>\n",
       "      <td>-0.014449</td>\n",
       "      <td>-0.010746</td>\n",
       "      <td>0.002898</td>\n",
       "      <td>4</td>\n",
       "    </tr>\n",
       "    <tr>\n",
       "      <th>82</th>\n",
       "      <td>0.194663</td>\n",
       "      <td>0.024141</td>\n",
       "      <td>1.770666</td>\n",
       "      <td>0.036712</td>\n",
       "      <td>41</td>\n",
       "      <td>2</td>\n",
       "      <td>uniform</td>\n",
       "      <td>{'algo__n_neighbors': 41, 'algo__p': 2, 'algo_...</td>\n",
       "      <td>-0.008505</td>\n",
       "      <td>-0.009733</td>\n",
       "      <td>-0.014001</td>\n",
       "      <td>-0.010747</td>\n",
       "      <td>0.002355</td>\n",
       "      <td>5</td>\n",
       "    </tr>\n",
       "    <tr>\n",
       "      <th>...</th>\n",
       "      <td>...</td>\n",
       "      <td>...</td>\n",
       "      <td>...</td>\n",
       "      <td>...</td>\n",
       "      <td>...</td>\n",
       "      <td>...</td>\n",
       "      <td>...</td>\n",
       "      <td>...</td>\n",
       "      <td>...</td>\n",
       "      <td>...</td>\n",
       "      <td>...</td>\n",
       "      <td>...</td>\n",
       "      <td>...</td>\n",
       "      <td>...</td>\n",
       "    </tr>\n",
       "    <tr>\n",
       "      <th>5</th>\n",
       "      <td>0.168669</td>\n",
       "      <td>0.033823</td>\n",
       "      <td>1.723667</td>\n",
       "      <td>0.050968</td>\n",
       "      <td>3</td>\n",
       "      <td>1</td>\n",
       "      <td>distance</td>\n",
       "      <td>{'algo__n_neighbors': 3, 'algo__p': 1, 'algo__...</td>\n",
       "      <td>-0.482440</td>\n",
       "      <td>-0.524015</td>\n",
       "      <td>-0.485363</td>\n",
       "      <td>-0.497272</td>\n",
       "      <td>0.018947</td>\n",
       "      <td>96</td>\n",
       "    </tr>\n",
       "    <tr>\n",
       "      <th>1</th>\n",
       "      <td>0.198667</td>\n",
       "      <td>0.014841</td>\n",
       "      <td>2.058994</td>\n",
       "      <td>0.112184</td>\n",
       "      <td>1</td>\n",
       "      <td>1</td>\n",
       "      <td>distance</td>\n",
       "      <td>{'algo__n_neighbors': 1, 'algo__p': 1, 'algo__...</td>\n",
       "      <td>-0.973951</td>\n",
       "      <td>-0.995142</td>\n",
       "      <td>-0.999071</td>\n",
       "      <td>-0.989388</td>\n",
       "      <td>0.011033</td>\n",
       "      <td>97</td>\n",
       "    </tr>\n",
       "    <tr>\n",
       "      <th>0</th>\n",
       "      <td>0.173663</td>\n",
       "      <td>0.013573</td>\n",
       "      <td>1.828998</td>\n",
       "      <td>0.114300</td>\n",
       "      <td>1</td>\n",
       "      <td>1</td>\n",
       "      <td>uniform</td>\n",
       "      <td>{'algo__n_neighbors': 1, 'algo__p': 1, 'algo__...</td>\n",
       "      <td>-0.973951</td>\n",
       "      <td>-0.995142</td>\n",
       "      <td>-0.999071</td>\n",
       "      <td>-0.989388</td>\n",
       "      <td>0.011033</td>\n",
       "      <td>97</td>\n",
       "    </tr>\n",
       "    <tr>\n",
       "      <th>3</th>\n",
       "      <td>0.339333</td>\n",
       "      <td>0.127412</td>\n",
       "      <td>2.188998</td>\n",
       "      <td>0.263895</td>\n",
       "      <td>1</td>\n",
       "      <td>2</td>\n",
       "      <td>distance</td>\n",
       "      <td>{'algo__n_neighbors': 1, 'algo__p': 2, 'algo__...</td>\n",
       "      <td>-0.968726</td>\n",
       "      <td>-1.004442</td>\n",
       "      <td>-0.999163</td>\n",
       "      <td>-0.990777</td>\n",
       "      <td>0.015741</td>\n",
       "      <td>99</td>\n",
       "    </tr>\n",
       "    <tr>\n",
       "      <th>2</th>\n",
       "      <td>0.470333</td>\n",
       "      <td>0.220301</td>\n",
       "      <td>2.500661</td>\n",
       "      <td>0.854904</td>\n",
       "      <td>1</td>\n",
       "      <td>2</td>\n",
       "      <td>uniform</td>\n",
       "      <td>{'algo__n_neighbors': 1, 'algo__p': 2, 'algo__...</td>\n",
       "      <td>-0.968726</td>\n",
       "      <td>-1.004442</td>\n",
       "      <td>-0.999163</td>\n",
       "      <td>-0.990777</td>\n",
       "      <td>0.015741</td>\n",
       "      <td>99</td>\n",
       "    </tr>\n",
       "  </tbody>\n",
       "</table>\n",
       "<p>100 rows × 14 columns</p>\n",
       "</div>"
      ],
      "text/plain": [
       "    mean_fit_time  std_fit_time  mean_score_time  std_score_time  \\\n",
       "70       0.304670      0.042085         1.582328        0.184710   \n",
       "78       0.172338      0.016820         1.440329        0.131834   \n",
       "98       0.204003      0.053071         1.550329        0.249671   \n",
       "96       0.155001      0.009416         1.610663        0.038964   \n",
       "82       0.194663      0.024141         1.770666        0.036712   \n",
       "..            ...           ...              ...             ...   \n",
       "5        0.168669      0.033823         1.723667        0.050968   \n",
       "1        0.198667      0.014841         2.058994        0.112184   \n",
       "0        0.173663      0.013573         1.828998        0.114300   \n",
       "3        0.339333      0.127412         2.188998        0.263895   \n",
       "2        0.470333      0.220301         2.500661        0.854904   \n",
       "\n",
       "   param_algo__n_neighbors param_algo__p param_algo__weights  \\\n",
       "70                      35             2             uniform   \n",
       "78                      39             2             uniform   \n",
       "98                      49             2             uniform   \n",
       "96                      49             1             uniform   \n",
       "82                      41             2             uniform   \n",
       "..                     ...           ...                 ...   \n",
       "5                        3             1            distance   \n",
       "1                        1             1            distance   \n",
       "0                        1             1             uniform   \n",
       "3                        1             2            distance   \n",
       "2                        1             2             uniform   \n",
       "\n",
       "                                               params  split0_test_score  \\\n",
       "70  {'algo__n_neighbors': 35, 'algo__p': 2, 'algo_...          -0.010793   \n",
       "78  {'algo__n_neighbors': 39, 'algo__p': 2, 'algo_...          -0.008669   \n",
       "98  {'algo__n_neighbors': 49, 'algo__p': 2, 'algo_...          -0.008334   \n",
       "96  {'algo__n_neighbors': 49, 'algo__p': 1, 'algo_...          -0.007373   \n",
       "82  {'algo__n_neighbors': 41, 'algo__p': 2, 'algo_...          -0.008505   \n",
       "..                                                ...                ...   \n",
       "5   {'algo__n_neighbors': 3, 'algo__p': 1, 'algo__...          -0.482440   \n",
       "1   {'algo__n_neighbors': 1, 'algo__p': 1, 'algo__...          -0.973951   \n",
       "0   {'algo__n_neighbors': 1, 'algo__p': 1, 'algo__...          -0.973951   \n",
       "3   {'algo__n_neighbors': 1, 'algo__p': 2, 'algo__...          -0.968726   \n",
       "2   {'algo__n_neighbors': 1, 'algo__p': 2, 'algo__...          -0.968726   \n",
       "\n",
       "    split1_test_score  split2_test_score  mean_test_score  std_test_score  \\\n",
       "70          -0.007186          -0.012965        -0.010315        0.002384   \n",
       "78          -0.009265          -0.013654        -0.010529        0.002223   \n",
       "98          -0.008922          -0.014453        -0.010570        0.002756   \n",
       "96          -0.010416          -0.014449        -0.010746        0.002898   \n",
       "82          -0.009733          -0.014001        -0.010747        0.002355   \n",
       "..                ...                ...              ...             ...   \n",
       "5           -0.524015          -0.485363        -0.497272        0.018947   \n",
       "1           -0.995142          -0.999071        -0.989388        0.011033   \n",
       "0           -0.995142          -0.999071        -0.989388        0.011033   \n",
       "3           -1.004442          -0.999163        -0.990777        0.015741   \n",
       "2           -1.004442          -0.999163        -0.990777        0.015741   \n",
       "\n",
       "    rank_test_score  \n",
       "70                1  \n",
       "78                2  \n",
       "98                3  \n",
       "96                4  \n",
       "82                5  \n",
       "..              ...  \n",
       "5                96  \n",
       "1                97  \n",
       "0                97  \n",
       "3                99  \n",
       "2                99  \n",
       "\n",
       "[100 rows x 14 columns]"
      ]
     },
     "execution_count": 79,
     "metadata": {},
     "output_type": "execute_result"
    }
   ],
   "source": [
    "pd.DataFrame(model.cv_results_).sort_values('rank_test_score')"
   ]
  },
  {
   "cell_type": "code",
   "execution_count": 80,
   "metadata": {},
   "outputs": [
    {
     "data": {
      "text/plain": [
       "{'algo__n_neighbors': 35, 'algo__p': 2, 'algo__weights': 'uniform'}"
      ]
     },
     "execution_count": 80,
     "metadata": {},
     "output_type": "execute_result"
    }
   ],
   "source": [
    "model.best_params_"
   ]
  },
  {
   "cell_type": "code",
   "execution_count": 81,
   "metadata": {},
   "outputs": [
    {
     "data": {
      "text/plain": [
       "(0.0484576852611166, -0.018875961556247267)"
      ]
     },
     "execution_count": 81,
     "metadata": {},
     "output_type": "execute_result"
    }
   ],
   "source": [
    "model.score(x_train, y_train), model.score(x_test, y_test)"
   ]
  },
  {
   "cell_type": "markdown",
   "metadata": {},
   "source": [
    "# Prediction"
   ]
  },
  {
   "cell_type": "code",
   "execution_count": 82,
   "metadata": {},
   "outputs": [
    {
     "data": {
      "text/html": [
       "<div>\n",
       "<style scoped>\n",
       "    .dataframe tbody tr th:only-of-type {\n",
       "        vertical-align: middle;\n",
       "    }\n",
       "\n",
       "    .dataframe tbody tr th {\n",
       "        vertical-align: top;\n",
       "    }\n",
       "\n",
       "    .dataframe thead th {\n",
       "        text-align: right;\n",
       "    }\n",
       "</style>\n",
       "<table border=\"1\" class=\"dataframe\">\n",
       "  <thead>\n",
       "    <tr style=\"text-align: right;\">\n",
       "      <th></th>\n",
       "      <th>OFFENSE_DESCRIPTION</th>\n",
       "      <th>DISTRICT</th>\n",
       "      <th>MONTH</th>\n",
       "      <th>DAY_OF_WEEK</th>\n",
       "    </tr>\n",
       "  </thead>\n",
       "  <tbody>\n",
       "    <tr>\n",
       "      <th>51186</th>\n",
       "      <td>PROPERTY - STOLEN THEN RECOVERED</td>\n",
       "      <td>C6</td>\n",
       "      <td>4</td>\n",
       "      <td>Friday</td>\n",
       "    </tr>\n",
       "    <tr>\n",
       "      <th>54222</th>\n",
       "      <td>VANDALISM</td>\n",
       "      <td>D4</td>\n",
       "      <td>6</td>\n",
       "      <td>Monday</td>\n",
       "    </tr>\n",
       "    <tr>\n",
       "      <th>19757</th>\n",
       "      <td>ASSAULT - SIMPLE</td>\n",
       "      <td>A1</td>\n",
       "      <td>10</td>\n",
       "      <td>Saturday</td>\n",
       "    </tr>\n",
       "    <tr>\n",
       "      <th>83620</th>\n",
       "      <td>INVESTIGATE PERSON</td>\n",
       "      <td>A1</td>\n",
       "      <td>3</td>\n",
       "      <td>Saturday</td>\n",
       "    </tr>\n",
       "    <tr>\n",
       "      <th>10449</th>\n",
       "      <td>DRUGS - POSSESSION/ SALE/ MANUFACTURING/ USE</td>\n",
       "      <td>B2</td>\n",
       "      <td>11</td>\n",
       "      <td>Monday</td>\n",
       "    </tr>\n",
       "    <tr>\n",
       "      <th>...</th>\n",
       "      <td>...</td>\n",
       "      <td>...</td>\n",
       "      <td>...</td>\n",
       "      <td>...</td>\n",
       "    </tr>\n",
       "    <tr>\n",
       "      <th>69774</th>\n",
       "      <td>THREATS TO DO BODILY HARM</td>\n",
       "      <td>B2</td>\n",
       "      <td>1</td>\n",
       "      <td>Tuesday</td>\n",
       "    </tr>\n",
       "    <tr>\n",
       "      <th>24629</th>\n",
       "      <td>SICK/INJURED/MEDICAL - PERSON</td>\n",
       "      <td>C6</td>\n",
       "      <td>9</td>\n",
       "      <td>Thursday</td>\n",
       "    </tr>\n",
       "    <tr>\n",
       "      <th>55916</th>\n",
       "      <td>M/V - LEAVING SCENE - PROPERTY DAMAGE</td>\n",
       "      <td>B3</td>\n",
       "      <td>3</td>\n",
       "      <td>Sunday</td>\n",
       "    </tr>\n",
       "    <tr>\n",
       "      <th>13340</th>\n",
       "      <td>VANDALISM</td>\n",
       "      <td>B2</td>\n",
       "      <td>10</td>\n",
       "      <td>Sunday</td>\n",
       "    </tr>\n",
       "    <tr>\n",
       "      <th>41824</th>\n",
       "      <td>THREATS TO DO BODILY HARM</td>\n",
       "      <td>C11</td>\n",
       "      <td>8</td>\n",
       "      <td>Wednesday</td>\n",
       "    </tr>\n",
       "  </tbody>\n",
       "</table>\n",
       "<p>8000 rows × 4 columns</p>\n",
       "</div>"
      ],
      "text/plain": [
       "                                OFFENSE_DESCRIPTION DISTRICT  MONTH  \\\n",
       "51186              PROPERTY - STOLEN THEN RECOVERED       C6      4   \n",
       "54222                                     VANDALISM       D4      6   \n",
       "19757                              ASSAULT - SIMPLE       A1     10   \n",
       "83620                            INVESTIGATE PERSON       A1      3   \n",
       "10449  DRUGS - POSSESSION/ SALE/ MANUFACTURING/ USE       B2     11   \n",
       "...                                             ...      ...    ...   \n",
       "69774                     THREATS TO DO BODILY HARM       B2      1   \n",
       "24629                 SICK/INJURED/MEDICAL - PERSON       C6      9   \n",
       "55916         M/V - LEAVING SCENE - PROPERTY DAMAGE       B3      3   \n",
       "13340                                     VANDALISM       B2     10   \n",
       "41824                     THREATS TO DO BODILY HARM      C11      8   \n",
       "\n",
       "      DAY_OF_WEEK  \n",
       "51186      Friday  \n",
       "54222      Monday  \n",
       "19757    Saturday  \n",
       "83620    Saturday  \n",
       "10449      Monday  \n",
       "...           ...  \n",
       "69774     Tuesday  \n",
       "24629    Thursday  \n",
       "55916      Sunday  \n",
       "13340      Sunday  \n",
       "41824   Wednesday  \n",
       "\n",
       "[8000 rows x 4 columns]"
      ]
     },
     "execution_count": 82,
     "metadata": {},
     "output_type": "execute_result"
    }
   ],
   "source": [
    "x_train"
   ]
  },
  {
   "cell_type": "code",
   "execution_count": 83,
   "metadata": {},
   "outputs": [
    {
     "data": {
      "text/html": [
       "<div>\n",
       "<style scoped>\n",
       "    .dataframe tbody tr th:only-of-type {\n",
       "        vertical-align: middle;\n",
       "    }\n",
       "\n",
       "    .dataframe tbody tr th {\n",
       "        vertical-align: top;\n",
       "    }\n",
       "\n",
       "    .dataframe thead th {\n",
       "        text-align: right;\n",
       "    }\n",
       "</style>\n",
       "<table border=\"1\" class=\"dataframe\">\n",
       "  <thead>\n",
       "    <tr style=\"text-align: right;\">\n",
       "      <th></th>\n",
       "      <th>OFFENSE_DESCRIPTION</th>\n",
       "      <th>DISTRICT</th>\n",
       "      <th>MONTH</th>\n",
       "      <th>DAY_OF_WEEK</th>\n",
       "    </tr>\n",
       "  </thead>\n",
       "  <tbody>\n",
       "    <tr>\n",
       "      <th>0</th>\n",
       "      <td>VANDALISM</td>\n",
       "      <td>D14</td>\n",
       "      <td>6</td>\n",
       "      <td>Thrusday</td>\n",
       "    </tr>\n",
       "  </tbody>\n",
       "</table>\n",
       "</div>"
      ],
      "text/plain": [
       "  OFFENSE_DESCRIPTION DISTRICT  MONTH DAY_OF_WEEK\n",
       "0           VANDALISM      D14      6    Thrusday"
      ]
     },
     "execution_count": 83,
     "metadata": {},
     "output_type": "execute_result"
    }
   ],
   "source": [
    "data = [['VANDALISM', 'D14', 6, 'Thrusday']]\n",
    "\n",
    "x_pred = pd.DataFrame(data, columns=x.columns)\n",
    "x_pred"
   ]
  },
  {
   "cell_type": "code",
   "execution_count": 84,
   "metadata": {},
   "outputs": [
    {
     "data": {
      "text/plain": [
       "array([13.57142857])"
      ]
     },
     "execution_count": 84,
     "metadata": {},
     "output_type": "execute_result"
    }
   ],
   "source": [
    "model.predict(x_pred)"
   ]
  },
  {
   "cell_type": "code",
   "execution_count": null,
   "metadata": {},
   "outputs": [],
   "source": []
  }
 ],
 "metadata": {
  "kernelspec": {
   "display_name": "Python 3",
   "language": "python",
   "name": "python3"
  },
  "language_info": {
   "codemirror_mode": {
    "name": "ipython",
    "version": 3
   },
   "file_extension": ".py",
   "mimetype": "text/x-python",
   "name": "python",
   "nbconvert_exporter": "python",
   "pygments_lexer": "ipython3",
   "version": "3.7.4"
  }
 },
 "nbformat": 4,
 "nbformat_minor": 4
}
